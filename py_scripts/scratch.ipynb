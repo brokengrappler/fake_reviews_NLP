{
 "cells": [
  {
   "cell_type": "code",
   "execution_count": 1,
   "metadata": {
    "ExecuteTime": {
     "end_time": "2020-08-19T01:24:55.606666Z",
     "start_time": "2020-08-19T01:24:53.214761Z"
    }
   },
   "outputs": [],
   "source": [
    "from input_pipeline import nmf_obj\n",
    "import pandas as pd\n",
    "from sklearn.model_selection import train_test_split\n",
    "from sklearn.preprocessing import StandardScaler\n",
    "import numpy as np\n",
    "from textblob import TextBlob\n",
    "from sklearn.cluster import KMeans\n",
    "import seaborn as sns\n",
    "\n",
    "import clean_filter_text as cft"
   ]
  },
  {
   "cell_type": "code",
   "execution_count": 2,
   "metadata": {
    "ExecuteTime": {
     "end_time": "2020-08-19T01:24:55.636456Z",
     "start_time": "2020-08-19T01:24:55.608825Z"
    }
   },
   "outputs": [],
   "source": [
    "reviews = pd.read_csv('../raw_data/deceptive-opinion.csv')\n",
    "y = reviews['deceptive']\n",
    "x = reviews.drop('deceptive', axis=1)\n",
    "x_tv, x_te, y_tv, y_te = train_test_split(x, y, test_size=0.2, random_state=444)\n",
    "x_tr, x_va, y_tr, y_va = train_test_split(x_tv, y_tv, test_size=0.25, random_state=444)"
   ]
  },
  {
   "cell_type": "code",
   "execution_count": 3,
   "metadata": {
    "ExecuteTime": {
     "end_time": "2020-08-19T01:24:56.066969Z",
     "start_time": "2020-08-19T01:24:55.638521Z"
    }
   },
   "outputs": [],
   "source": [
    "file_df = pd.read_pickle('../pickles/clean_hotel_reviews.pkl')"
   ]
  },
  {
   "cell_type": "code",
   "execution_count": 4,
   "metadata": {
    "ExecuteTime": {
     "end_time": "2020-08-19T01:24:56.476254Z",
     "start_time": "2020-08-19T01:24:56.069586Z"
    }
   },
   "outputs": [],
   "source": [
    "test_nmf = nmf_obj()\n",
    "test_nmf.init_tfidf(ngram=(1,2))\n",
    "test_nmf.init_tdm(file_df)\n",
    "test_nmf.init_nmf(5)"
   ]
  },
  {
   "cell_type": "code",
   "execution_count": 5,
   "metadata": {
    "ExecuteTime": {
     "end_time": "2020-08-19T01:24:56.487742Z",
     "start_time": "2020-08-19T01:24:56.478119Z"
    }
   },
   "outputs": [
    {
     "name": "stdout",
     "output_type": "stream",
     "text": [
      "         0          1              2         3          4\n",
      "0    great      locat           view      walk      night\n",
      "1    check       desk          night      time     servic\n",
      "2     veri  room veri      veri nice     clean       nice\n",
      "3      thi  thi hotel  recommend thi  stay thi  recommend\n",
      "4  chicago   downtown          visit    luxuri    definit\n"
     ]
    }
   ],
   "source": [
    "test_nmf.display_topics()\n",
    "display = test_nmf.export_topic_df()"
   ]
  },
  {
   "cell_type": "code",
   "execution_count": 7,
   "metadata": {
    "ExecuteTime": {
     "end_time": "2020-08-19T01:24:56.519107Z",
     "start_time": "2020-08-19T01:24:56.514547Z"
    }
   },
   "outputs": [],
   "source": [
    "def kmeans_cluster(k, data):\n",
    "    km = KMeans(n_clusters=k, random_state=444)\n",
    "    km.fit_predict(data)\n",
    "    return km"
   ]
  },
  {
   "cell_type": "code",
   "execution_count": 8,
   "metadata": {
    "ExecuteTime": {
     "end_time": "2020-08-19T01:24:56.526591Z",
     "start_time": "2020-08-19T01:24:56.523766Z"
    }
   },
   "outputs": [],
   "source": [
    "def preserve_index(svd_df, old_idx_df):\n",
    "    svd_df['og_index'] = old_idx_df.index\n",
    "    return svd_df"
   ]
  },
  {
   "cell_type": "code",
   "execution_count": 9,
   "metadata": {
    "ExecuteTime": {
     "end_time": "2020-08-19T01:24:56.533375Z",
     "start_time": "2020-08-19T01:24:56.529149Z"
    }
   },
   "outputs": [],
   "source": [
    "def tb_subjectivity(text):\n",
    "    sub_score = TextBlob(text).sentiment.subjectivity\n",
    "    return sub_score\n",
    "\n",
    "def tb_sentiment(text):\n",
    "    pol_score = TextBlob(text).sentiment.polairty\n",
    "    return 'negative' if pol_score < .3 else 'positive'"
   ]
  },
  {
   "cell_type": "code",
   "execution_count": 10,
   "metadata": {
    "ExecuteTime": {
     "end_time": "2020-08-19T01:24:57.783189Z",
     "start_time": "2020-08-19T01:24:57.776175Z"
    }
   },
   "outputs": [],
   "source": [
    "def add_features_to_topics(topic_df, x_sel, keep_text=False):\n",
    "    '''\n",
    "    Takes topic model matrix and adds subjectivity, review length, and dummifies polarity. Also\n",
    "    adds original index as a column in the topic model matrix.\n",
    "    '''\n",
    "    topic_df = preserve_index(topic_df, x_sel)\n",
    "    x_sel = preserve_index(x_sel, x_sel)\n",
    "    x_mod = topic_df.merge(x_sel, how='left', on='og_index')\n",
    "    x_mod.drop(['hotel', 'source', 'og_index'], axis=1, inplace=True)\n",
    "    x_mod['tb_subjective'] = x_mod['text'].apply(tb_subjectivity)\n",
    "    x_mod['review_length'] = x_mod['text'].apply(lambda x: len([x for x in x.split()]))\n",
    "    x_mod['polarity'] = x_mod['polarity'].map({'negative':0, 'positive': 1})\n",
    "    x_mod.index = x_sel.index\n",
    "    if keep_text:\n",
    "        return x_mod\n",
    "    else:\n",
    "        return x_mod.drop('text', axis=1)"
   ]
  },
  {
   "cell_type": "code",
   "execution_count": 11,
   "metadata": {
    "ExecuteTime": {
     "end_time": "2020-08-19T01:24:59.012601Z",
     "start_time": "2020-08-19T01:24:58.214170Z"
    }
   },
   "outputs": [
    {
     "name": "stderr",
     "output_type": "stream",
     "text": [
      "<ipython-input-8-940e5000a4af>:2: SettingWithCopyWarning: \n",
      "A value is trying to be set on a copy of a slice from a DataFrame.\n",
      "Try using .loc[row_indexer,col_indexer] = value instead\n",
      "\n",
      "See the caveats in the documentation: https://pandas.pydata.org/pandas-docs/stable/user_guide/indexing.html#returning-a-view-versus-a-copy\n",
      "  svd_df['og_index'] = old_idx_df.index\n"
     ]
    }
   ],
   "source": [
    "bigram_add_feat = add_features_to_topics(display, x_tr, True)"
   ]
  },
  {
   "cell_type": "code",
   "execution_count": 12,
   "metadata": {
    "ExecuteTime": {
     "end_time": "2020-08-19T01:24:59.030208Z",
     "start_time": "2020-08-19T01:24:59.014442Z"
    }
   },
   "outputs": [
    {
     "data": {
      "text/html": [
       "<div>\n",
       "<style scoped>\n",
       "    .dataframe tbody tr th:only-of-type {\n",
       "        vertical-align: middle;\n",
       "    }\n",
       "\n",
       "    .dataframe tbody tr th {\n",
       "        vertical-align: top;\n",
       "    }\n",
       "\n",
       "    .dataframe thead th {\n",
       "        text-align: right;\n",
       "    }\n",
       "</style>\n",
       "<table border=\"1\" class=\"dataframe\">\n",
       "  <thead>\n",
       "    <tr style=\"text-align: right;\">\n",
       "      <th></th>\n",
       "      <th>great,locat,view,walk,night</th>\n",
       "      <th>check,desk,night,time,servic</th>\n",
       "      <th>veri,room veri,veri nice,clean,nice</th>\n",
       "      <th>thi,thi hotel,recommend thi,stay thi,recommend</th>\n",
       "      <th>chicago,downtown,visit,luxuri,definit</th>\n",
       "      <th>polarity</th>\n",
       "      <th>text</th>\n",
       "      <th>tb_subjective</th>\n",
       "      <th>review_length</th>\n",
       "    </tr>\n",
       "  </thead>\n",
       "  <tbody>\n",
       "    <tr>\n",
       "      <th>118</th>\n",
       "      <td>0.073043</td>\n",
       "      <td>0.065412</td>\n",
       "      <td>0.028582</td>\n",
       "      <td>0.042986</td>\n",
       "      <td>0.088793</td>\n",
       "      <td>1</td>\n",
       "      <td>Our third stay at the Homewood Suites Chicago ...</td>\n",
       "      <td>0.487235</td>\n",
       "      <td>184</td>\n",
       "    </tr>\n",
       "    <tr>\n",
       "      <th>49</th>\n",
       "      <td>0.140194</td>\n",
       "      <td>0.056084</td>\n",
       "      <td>0.000000</td>\n",
       "      <td>0.004602</td>\n",
       "      <td>0.027383</td>\n",
       "      <td>1</td>\n",
       "      <td>The concierge was so helpful. Without hesitati...</td>\n",
       "      <td>0.573214</td>\n",
       "      <td>125</td>\n",
       "    </tr>\n",
       "    <tr>\n",
       "      <th>980</th>\n",
       "      <td>0.002089</td>\n",
       "      <td>0.129239</td>\n",
       "      <td>0.000000</td>\n",
       "      <td>0.000000</td>\n",
       "      <td>0.002188</td>\n",
       "      <td>0</td>\n",
       "      <td>I wrote an email to the sales &amp; reservation te...</td>\n",
       "      <td>0.300000</td>\n",
       "      <td>61</td>\n",
       "    </tr>\n",
       "    <tr>\n",
       "      <th>60</th>\n",
       "      <td>0.192980</td>\n",
       "      <td>0.000000</td>\n",
       "      <td>0.064174</td>\n",
       "      <td>0.000000</td>\n",
       "      <td>0.045297</td>\n",
       "      <td>1</td>\n",
       "      <td>Great hotel in heart of Chicago for business o...</td>\n",
       "      <td>0.556409</td>\n",
       "      <td>63</td>\n",
       "    </tr>\n",
       "    <tr>\n",
       "      <th>804</th>\n",
       "      <td>0.000000</td>\n",
       "      <td>0.143329</td>\n",
       "      <td>0.000000</td>\n",
       "      <td>0.016703</td>\n",
       "      <td>0.000000</td>\n",
       "      <td>0</td>\n",
       "      <td>They allowed parties to go on all night and bo...</td>\n",
       "      <td>0.511905</td>\n",
       "      <td>165</td>\n",
       "    </tr>\n",
       "    <tr>\n",
       "      <th>...</th>\n",
       "      <td>...</td>\n",
       "      <td>...</td>\n",
       "      <td>...</td>\n",
       "      <td>...</td>\n",
       "      <td>...</td>\n",
       "      <td>...</td>\n",
       "      <td>...</td>\n",
       "      <td>...</td>\n",
       "      <td>...</td>\n",
       "    </tr>\n",
       "    <tr>\n",
       "      <th>1032</th>\n",
       "      <td>0.031053</td>\n",
       "      <td>0.000000</td>\n",
       "      <td>0.085187</td>\n",
       "      <td>0.104728</td>\n",
       "      <td>0.024398</td>\n",
       "      <td>0</td>\n",
       "      <td>I'm sitting in the hotel as I right this revie...</td>\n",
       "      <td>0.462747</td>\n",
       "      <td>128</td>\n",
       "    </tr>\n",
       "    <tr>\n",
       "      <th>1546</th>\n",
       "      <td>0.000000</td>\n",
       "      <td>0.063713</td>\n",
       "      <td>0.002669</td>\n",
       "      <td>0.206772</td>\n",
       "      <td>0.012342</td>\n",
       "      <td>0</td>\n",
       "      <td>This hotel is dizzying with all of the bold co...</td>\n",
       "      <td>0.510185</td>\n",
       "      <td>148</td>\n",
       "    </tr>\n",
       "    <tr>\n",
       "      <th>1429</th>\n",
       "      <td>0.005864</td>\n",
       "      <td>0.129928</td>\n",
       "      <td>0.000000</td>\n",
       "      <td>0.107837</td>\n",
       "      <td>0.000000</td>\n",
       "      <td>0</td>\n",
       "      <td>when we arrived the check in process was fairl...</td>\n",
       "      <td>0.468519</td>\n",
       "      <td>106</td>\n",
       "    </tr>\n",
       "    <tr>\n",
       "      <th>464</th>\n",
       "      <td>0.032819</td>\n",
       "      <td>0.002181</td>\n",
       "      <td>0.000000</td>\n",
       "      <td>0.053641</td>\n",
       "      <td>0.153236</td>\n",
       "      <td>1</td>\n",
       "      <td>While travelling for business I had my family...</td>\n",
       "      <td>0.620714</td>\n",
       "      <td>101</td>\n",
       "    </tr>\n",
       "    <tr>\n",
       "      <th>582</th>\n",
       "      <td>0.064101</td>\n",
       "      <td>0.000000</td>\n",
       "      <td>0.185057</td>\n",
       "      <td>0.000000</td>\n",
       "      <td>0.063057</td>\n",
       "      <td>1</td>\n",
       "      <td>Friendly staff, clean building and rooms. The ...</td>\n",
       "      <td>0.650000</td>\n",
       "      <td>39</td>\n",
       "    </tr>\n",
       "  </tbody>\n",
       "</table>\n",
       "<p>960 rows × 9 columns</p>\n",
       "</div>"
      ],
      "text/plain": [
       "      great,locat,view,walk,night  check,desk,night,time,servic  \\\n",
       "118                      0.073043                      0.065412   \n",
       "49                       0.140194                      0.056084   \n",
       "980                      0.002089                      0.129239   \n",
       "60                       0.192980                      0.000000   \n",
       "804                      0.000000                      0.143329   \n",
       "...                           ...                           ...   \n",
       "1032                     0.031053                      0.000000   \n",
       "1546                     0.000000                      0.063713   \n",
       "1429                     0.005864                      0.129928   \n",
       "464                      0.032819                      0.002181   \n",
       "582                      0.064101                      0.000000   \n",
       "\n",
       "      veri,room veri,veri nice,clean,nice  \\\n",
       "118                              0.028582   \n",
       "49                               0.000000   \n",
       "980                              0.000000   \n",
       "60                               0.064174   \n",
       "804                              0.000000   \n",
       "...                                   ...   \n",
       "1032                             0.085187   \n",
       "1546                             0.002669   \n",
       "1429                             0.000000   \n",
       "464                              0.000000   \n",
       "582                              0.185057   \n",
       "\n",
       "      thi,thi hotel,recommend thi,stay thi,recommend  \\\n",
       "118                                         0.042986   \n",
       "49                                          0.004602   \n",
       "980                                         0.000000   \n",
       "60                                          0.000000   \n",
       "804                                         0.016703   \n",
       "...                                              ...   \n",
       "1032                                        0.104728   \n",
       "1546                                        0.206772   \n",
       "1429                                        0.107837   \n",
       "464                                         0.053641   \n",
       "582                                         0.000000   \n",
       "\n",
       "      chicago,downtown,visit,luxuri,definit  polarity  \\\n",
       "118                                0.088793         1   \n",
       "49                                 0.027383         1   \n",
       "980                                0.002188         0   \n",
       "60                                 0.045297         1   \n",
       "804                                0.000000         0   \n",
       "...                                     ...       ...   \n",
       "1032                               0.024398         0   \n",
       "1546                               0.012342         0   \n",
       "1429                               0.000000         0   \n",
       "464                                0.153236         1   \n",
       "582                                0.063057         1   \n",
       "\n",
       "                                                   text  tb_subjective  \\\n",
       "118   Our third stay at the Homewood Suites Chicago ...       0.487235   \n",
       "49    The concierge was so helpful. Without hesitati...       0.573214   \n",
       "980   I wrote an email to the sales & reservation te...       0.300000   \n",
       "60    Great hotel in heart of Chicago for business o...       0.556409   \n",
       "804   They allowed parties to go on all night and bo...       0.511905   \n",
       "...                                                 ...            ...   \n",
       "1032  I'm sitting in the hotel as I right this revie...       0.462747   \n",
       "1546  This hotel is dizzying with all of the bold co...       0.510185   \n",
       "1429  when we arrived the check in process was fairl...       0.468519   \n",
       "464    While travelling for business I had my family...       0.620714   \n",
       "582   Friendly staff, clean building and rooms. The ...       0.650000   \n",
       "\n",
       "      review_length  \n",
       "118             184  \n",
       "49              125  \n",
       "980              61  \n",
       "60               63  \n",
       "804             165  \n",
       "...             ...  \n",
       "1032            128  \n",
       "1546            148  \n",
       "1429            106  \n",
       "464             101  \n",
       "582              39  \n",
       "\n",
       "[960 rows x 9 columns]"
      ]
     },
     "execution_count": 12,
     "metadata": {},
     "output_type": "execute_result"
    }
   ],
   "source": [
    "bigram_add_feat"
   ]
  },
  {
   "cell_type": "code",
   "execution_count": 13,
   "metadata": {
    "ExecuteTime": {
     "end_time": "2020-08-19T01:24:59.039082Z",
     "start_time": "2020-08-19T01:24:59.032048Z"
    }
   },
   "outputs": [],
   "source": [
    "scaler = StandardScaler()\n",
    "x_feat_sc = scaler.fit_transform(bigram_add_feat.drop('text', axis=1))"
   ]
  },
  {
   "cell_type": "code",
   "execution_count": 14,
   "metadata": {
    "ExecuteTime": {
     "end_time": "2020-08-19T01:24:59.133000Z",
     "start_time": "2020-08-19T01:24:59.040546Z"
    }
   },
   "outputs": [],
   "source": [
    "true_k=9\n",
    "bigram_plus_cluster = kmeans_cluster(true_k, x_feat_sc)\n",
    "bigram_add_feat['cluster'] = bigram_plus_cluster.labels_\n",
    "bigram_add_feat['target'] = y_tr"
   ]
  },
  {
   "cell_type": "code",
   "execution_count": 16,
   "metadata": {
    "ExecuteTime": {
     "end_time": "2020-08-19T01:25:06.861605Z",
     "start_time": "2020-08-19T01:25:06.843079Z"
    }
   },
   "outputs": [
    {
     "data": {
      "text/html": [
       "<div>\n",
       "<style scoped>\n",
       "    .dataframe tbody tr th:only-of-type {\n",
       "        vertical-align: middle;\n",
       "    }\n",
       "\n",
       "    .dataframe tbody tr th {\n",
       "        vertical-align: top;\n",
       "    }\n",
       "\n",
       "    .dataframe thead th {\n",
       "        text-align: right;\n",
       "    }\n",
       "</style>\n",
       "<table border=\"1\" class=\"dataframe\">\n",
       "  <thead>\n",
       "    <tr style=\"text-align: right;\">\n",
       "      <th></th>\n",
       "      <th>great,locat,view,walk,night</th>\n",
       "      <th>check,desk,night,time,servic</th>\n",
       "      <th>veri,room veri,veri nice,clean,nice</th>\n",
       "      <th>thi,thi hotel,recommend thi,stay thi,recommend</th>\n",
       "      <th>chicago,downtown,visit,luxuri,definit</th>\n",
       "      <th>polarity</th>\n",
       "      <th>text</th>\n",
       "      <th>tb_subjective</th>\n",
       "      <th>review_length</th>\n",
       "      <th>cluster</th>\n",
       "      <th>target</th>\n",
       "    </tr>\n",
       "  </thead>\n",
       "  <tbody>\n",
       "    <tr>\n",
       "      <th>174</th>\n",
       "      <td>0.046146</td>\n",
       "      <td>0.034048</td>\n",
       "      <td>0.021056</td>\n",
       "      <td>0.051939</td>\n",
       "      <td>0.074981</td>\n",
       "      <td>1</td>\n",
       "      <td>My girlfriends and I stayed 4 nights at the Ta...</td>\n",
       "      <td>0.621190</td>\n",
       "      <td>110</td>\n",
       "      <td>7</td>\n",
       "      <td>truthful</td>\n",
       "    </tr>\n",
       "    <tr>\n",
       "      <th>175</th>\n",
       "      <td>0.044899</td>\n",
       "      <td>0.000000</td>\n",
       "      <td>0.074572</td>\n",
       "      <td>0.000000</td>\n",
       "      <td>0.089219</td>\n",
       "      <td>1</td>\n",
       "      <td>Excellent location, about a block from Michiga...</td>\n",
       "      <td>0.750000</td>\n",
       "      <td>39</td>\n",
       "      <td>7</td>\n",
       "      <td>truthful</td>\n",
       "    </tr>\n",
       "    <tr>\n",
       "      <th>220</th>\n",
       "      <td>0.044449</td>\n",
       "      <td>0.034260</td>\n",
       "      <td>0.023639</td>\n",
       "      <td>0.010799</td>\n",
       "      <td>0.097913</td>\n",
       "      <td>1</td>\n",
       "      <td>We loved our stay at the Talbott. We were in C...</td>\n",
       "      <td>0.582222</td>\n",
       "      <td>102</td>\n",
       "      <td>7</td>\n",
       "      <td>truthful</td>\n",
       "    </tr>\n",
       "    <tr>\n",
       "      <th>755</th>\n",
       "      <td>0.007631</td>\n",
       "      <td>0.000000</td>\n",
       "      <td>0.000000</td>\n",
       "      <td>0.060829</td>\n",
       "      <td>0.160014</td>\n",
       "      <td>1</td>\n",
       "      <td>The Palmer House Hilton hotel takes luxury to ...</td>\n",
       "      <td>0.470110</td>\n",
       "      <td>106</td>\n",
       "      <td>7</td>\n",
       "      <td>deceptive</td>\n",
       "    </tr>\n",
       "    <tr>\n",
       "      <th>653</th>\n",
       "      <td>0.045222</td>\n",
       "      <td>0.011182</td>\n",
       "      <td>0.003435</td>\n",
       "      <td>0.000000</td>\n",
       "      <td>0.171199</td>\n",
       "      <td>1</td>\n",
       "      <td>My family chose to stay at the Chicago Hilton ...</td>\n",
       "      <td>0.597436</td>\n",
       "      <td>114</td>\n",
       "      <td>7</td>\n",
       "      <td>deceptive</td>\n",
       "    </tr>\n",
       "    <tr>\n",
       "      <th>...</th>\n",
       "      <td>...</td>\n",
       "      <td>...</td>\n",
       "      <td>...</td>\n",
       "      <td>...</td>\n",
       "      <td>...</td>\n",
       "      <td>...</td>\n",
       "      <td>...</td>\n",
       "      <td>...</td>\n",
       "      <td>...</td>\n",
       "      <td>...</td>\n",
       "      <td>...</td>\n",
       "    </tr>\n",
       "    <tr>\n",
       "      <th>1562</th>\n",
       "      <td>0.003995</td>\n",
       "      <td>0.040478</td>\n",
       "      <td>0.034481</td>\n",
       "      <td>0.025826</td>\n",
       "      <td>0.159652</td>\n",
       "      <td>0</td>\n",
       "      <td>This hotel was very overpriced for what you ge...</td>\n",
       "      <td>0.569120</td>\n",
       "      <td>125</td>\n",
       "      <td>7</td>\n",
       "      <td>deceptive</td>\n",
       "    </tr>\n",
       "    <tr>\n",
       "      <th>514</th>\n",
       "      <td>0.006613</td>\n",
       "      <td>0.017064</td>\n",
       "      <td>0.000000</td>\n",
       "      <td>0.108499</td>\n",
       "      <td>0.117099</td>\n",
       "      <td>1</td>\n",
       "      <td>When my sister got married last summer, our st...</td>\n",
       "      <td>0.568056</td>\n",
       "      <td>101</td>\n",
       "      <td>7</td>\n",
       "      <td>deceptive</td>\n",
       "    </tr>\n",
       "    <tr>\n",
       "      <th>643</th>\n",
       "      <td>0.000000</td>\n",
       "      <td>0.000000</td>\n",
       "      <td>0.032951</td>\n",
       "      <td>0.074229</td>\n",
       "      <td>0.124343</td>\n",
       "      <td>1</td>\n",
       "      <td>The stay at the Hilton Chicago definetely felt...</td>\n",
       "      <td>0.720000</td>\n",
       "      <td>56</td>\n",
       "      <td>7</td>\n",
       "      <td>deceptive</td>\n",
       "    </tr>\n",
       "    <tr>\n",
       "      <th>756</th>\n",
       "      <td>0.000000</td>\n",
       "      <td>0.076350</td>\n",
       "      <td>0.032138</td>\n",
       "      <td>0.000000</td>\n",
       "      <td>0.123667</td>\n",
       "      <td>1</td>\n",
       "      <td>My husband and I recently chose the Palmer Hou...</td>\n",
       "      <td>0.538889</td>\n",
       "      <td>173</td>\n",
       "      <td>7</td>\n",
       "      <td>deceptive</td>\n",
       "    </tr>\n",
       "    <tr>\n",
       "      <th>464</th>\n",
       "      <td>0.032819</td>\n",
       "      <td>0.002181</td>\n",
       "      <td>0.000000</td>\n",
       "      <td>0.053641</td>\n",
       "      <td>0.153236</td>\n",
       "      <td>1</td>\n",
       "      <td>While travelling for business I had my family...</td>\n",
       "      <td>0.620714</td>\n",
       "      <td>101</td>\n",
       "      <td>7</td>\n",
       "      <td>deceptive</td>\n",
       "    </tr>\n",
       "  </tbody>\n",
       "</table>\n",
       "<p>139 rows × 11 columns</p>\n",
       "</div>"
      ],
      "text/plain": [
       "      great,locat,view,walk,night  check,desk,night,time,servic  \\\n",
       "174                      0.046146                      0.034048   \n",
       "175                      0.044899                      0.000000   \n",
       "220                      0.044449                      0.034260   \n",
       "755                      0.007631                      0.000000   \n",
       "653                      0.045222                      0.011182   \n",
       "...                           ...                           ...   \n",
       "1562                     0.003995                      0.040478   \n",
       "514                      0.006613                      0.017064   \n",
       "643                      0.000000                      0.000000   \n",
       "756                      0.000000                      0.076350   \n",
       "464                      0.032819                      0.002181   \n",
       "\n",
       "      veri,room veri,veri nice,clean,nice  \\\n",
       "174                              0.021056   \n",
       "175                              0.074572   \n",
       "220                              0.023639   \n",
       "755                              0.000000   \n",
       "653                              0.003435   \n",
       "...                                   ...   \n",
       "1562                             0.034481   \n",
       "514                              0.000000   \n",
       "643                              0.032951   \n",
       "756                              0.032138   \n",
       "464                              0.000000   \n",
       "\n",
       "      thi,thi hotel,recommend thi,stay thi,recommend  \\\n",
       "174                                         0.051939   \n",
       "175                                         0.000000   \n",
       "220                                         0.010799   \n",
       "755                                         0.060829   \n",
       "653                                         0.000000   \n",
       "...                                              ...   \n",
       "1562                                        0.025826   \n",
       "514                                         0.108499   \n",
       "643                                         0.074229   \n",
       "756                                         0.000000   \n",
       "464                                         0.053641   \n",
       "\n",
       "      chicago,downtown,visit,luxuri,definit  polarity  \\\n",
       "174                                0.074981         1   \n",
       "175                                0.089219         1   \n",
       "220                                0.097913         1   \n",
       "755                                0.160014         1   \n",
       "653                                0.171199         1   \n",
       "...                                     ...       ...   \n",
       "1562                               0.159652         0   \n",
       "514                                0.117099         1   \n",
       "643                                0.124343         1   \n",
       "756                                0.123667         1   \n",
       "464                                0.153236         1   \n",
       "\n",
       "                                                   text  tb_subjective  \\\n",
       "174   My girlfriends and I stayed 4 nights at the Ta...       0.621190   \n",
       "175   Excellent location, about a block from Michiga...       0.750000   \n",
       "220   We loved our stay at the Talbott. We were in C...       0.582222   \n",
       "755   The Palmer House Hilton hotel takes luxury to ...       0.470110   \n",
       "653   My family chose to stay at the Chicago Hilton ...       0.597436   \n",
       "...                                                 ...            ...   \n",
       "1562  This hotel was very overpriced for what you ge...       0.569120   \n",
       "514   When my sister got married last summer, our st...       0.568056   \n",
       "643   The stay at the Hilton Chicago definetely felt...       0.720000   \n",
       "756   My husband and I recently chose the Palmer Hou...       0.538889   \n",
       "464    While travelling for business I had my family...       0.620714   \n",
       "\n",
       "      review_length  cluster     target  \n",
       "174             110        7   truthful  \n",
       "175              39        7   truthful  \n",
       "220             102        7   truthful  \n",
       "755             106        7  deceptive  \n",
       "653             114        7  deceptive  \n",
       "...             ...      ...        ...  \n",
       "1562            125        7  deceptive  \n",
       "514             101        7  deceptive  \n",
       "643              56        7  deceptive  \n",
       "756             173        7  deceptive  \n",
       "464             101        7  deceptive  \n",
       "\n",
       "[139 rows x 11 columns]"
      ]
     },
     "execution_count": 16,
     "metadata": {},
     "output_type": "execute_result"
    }
   ],
   "source": [
    "bigram_add_feat[bigram_add_feat['cluster'] == 7]"
   ]
  },
  {
   "cell_type": "code",
   "execution_count": 17,
   "metadata": {
    "ExecuteTime": {
     "end_time": "2020-08-19T01:25:43.912014Z",
     "start_time": "2020-08-19T01:25:43.901636Z"
    }
   },
   "outputs": [
    {
     "data": {
      "text/plain": [
       "deceptive    117\n",
       "truthful      22\n",
       "Name: target, dtype: int64"
      ]
     },
     "execution_count": 17,
     "metadata": {},
     "output_type": "execute_result"
    }
   ],
   "source": [
    "bigram_add_feat[bigram_add_feat['cluster'] == 7].target.value_counts()"
   ]
  },
  {
   "cell_type": "code",
   "execution_count": 24,
   "metadata": {
    "ExecuteTime": {
     "end_time": "2020-08-19T01:31:48.943286Z",
     "start_time": "2020-08-19T01:31:48.900581Z"
    }
   },
   "outputs": [
    {
     "data": {
      "text/html": [
       "<div>\n",
       "<style scoped>\n",
       "    .dataframe tbody tr th:only-of-type {\n",
       "        vertical-align: middle;\n",
       "    }\n",
       "\n",
       "    .dataframe tbody tr th {\n",
       "        vertical-align: top;\n",
       "    }\n",
       "\n",
       "    .dataframe thead th {\n",
       "        text-align: right;\n",
       "    }\n",
       "</style>\n",
       "<table border=\"1\" class=\"dataframe\">\n",
       "  <thead>\n",
       "    <tr style=\"text-align: right;\">\n",
       "      <th></th>\n",
       "      <th>great,locat,view,walk,night</th>\n",
       "      <th>check,desk,night,time,servic</th>\n",
       "      <th>veri,room veri,veri nice,clean,nice</th>\n",
       "      <th>thi,thi hotel,recommend thi,stay thi,recommend</th>\n",
       "      <th>chicago,downtown,visit,luxuri,definit</th>\n",
       "      <th>polarity</th>\n",
       "      <th>tb_subjective</th>\n",
       "      <th>review_length</th>\n",
       "      <th>cluster</th>\n",
       "    </tr>\n",
       "  </thead>\n",
       "  <tbody>\n",
       "    <tr>\n",
       "      <th>count</th>\n",
       "      <td>139.000000</td>\n",
       "      <td>139.000000</td>\n",
       "      <td>139.000000</td>\n",
       "      <td>139.000000</td>\n",
       "      <td>139.000000</td>\n",
       "      <td>139.000000</td>\n",
       "      <td>139.000000</td>\n",
       "      <td>139.000000</td>\n",
       "      <td>139.0</td>\n",
       "    </tr>\n",
       "    <tr>\n",
       "      <th>mean</th>\n",
       "      <td>0.025736</td>\n",
       "      <td>0.019300</td>\n",
       "      <td>0.031884</td>\n",
       "      <td>0.028945</td>\n",
       "      <td>0.142932</td>\n",
       "      <td>0.920863</td>\n",
       "      <td>0.592162</td>\n",
       "      <td>111.431655</td>\n",
       "      <td>7.0</td>\n",
       "    </tr>\n",
       "    <tr>\n",
       "      <th>std</th>\n",
       "      <td>0.028029</td>\n",
       "      <td>0.021654</td>\n",
       "      <td>0.036251</td>\n",
       "      <td>0.033425</td>\n",
       "      <td>0.033635</td>\n",
       "      <td>0.270928</td>\n",
       "      <td>0.093651</td>\n",
       "      <td>47.204312</td>\n",
       "      <td>0.0</td>\n",
       "    </tr>\n",
       "    <tr>\n",
       "      <th>min</th>\n",
       "      <td>0.000000</td>\n",
       "      <td>0.000000</td>\n",
       "      <td>0.000000</td>\n",
       "      <td>0.000000</td>\n",
       "      <td>0.062223</td>\n",
       "      <td>0.000000</td>\n",
       "      <td>0.380000</td>\n",
       "      <td>30.000000</td>\n",
       "      <td>7.0</td>\n",
       "    </tr>\n",
       "    <tr>\n",
       "      <th>25%</th>\n",
       "      <td>0.000000</td>\n",
       "      <td>0.000000</td>\n",
       "      <td>0.000000</td>\n",
       "      <td>0.000000</td>\n",
       "      <td>0.115699</td>\n",
       "      <td>1.000000</td>\n",
       "      <td>0.526042</td>\n",
       "      <td>75.000000</td>\n",
       "      <td>7.0</td>\n",
       "    </tr>\n",
       "    <tr>\n",
       "      <th>50%</th>\n",
       "      <td>0.018560</td>\n",
       "      <td>0.013595</td>\n",
       "      <td>0.015048</td>\n",
       "      <td>0.013274</td>\n",
       "      <td>0.142811</td>\n",
       "      <td>1.000000</td>\n",
       "      <td>0.580952</td>\n",
       "      <td>103.000000</td>\n",
       "      <td>7.0</td>\n",
       "    </tr>\n",
       "    <tr>\n",
       "      <th>75%</th>\n",
       "      <td>0.040434</td>\n",
       "      <td>0.033725</td>\n",
       "      <td>0.053379</td>\n",
       "      <td>0.050384</td>\n",
       "      <td>0.167697</td>\n",
       "      <td>1.000000</td>\n",
       "      <td>0.651698</td>\n",
       "      <td>132.500000</td>\n",
       "      <td>7.0</td>\n",
       "    </tr>\n",
       "    <tr>\n",
       "      <th>max</th>\n",
       "      <td>0.130183</td>\n",
       "      <td>0.087947</td>\n",
       "      <td>0.139929</td>\n",
       "      <td>0.117925</td>\n",
       "      <td>0.221129</td>\n",
       "      <td>1.000000</td>\n",
       "      <td>0.816667</td>\n",
       "      <td>272.000000</td>\n",
       "      <td>7.0</td>\n",
       "    </tr>\n",
       "  </tbody>\n",
       "</table>\n",
       "</div>"
      ],
      "text/plain": [
       "       great,locat,view,walk,night  check,desk,night,time,servic  \\\n",
       "count                   139.000000                    139.000000   \n",
       "mean                      0.025736                      0.019300   \n",
       "std                       0.028029                      0.021654   \n",
       "min                       0.000000                      0.000000   \n",
       "25%                       0.000000                      0.000000   \n",
       "50%                       0.018560                      0.013595   \n",
       "75%                       0.040434                      0.033725   \n",
       "max                       0.130183                      0.087947   \n",
       "\n",
       "       veri,room veri,veri nice,clean,nice  \\\n",
       "count                           139.000000   \n",
       "mean                              0.031884   \n",
       "std                               0.036251   \n",
       "min                               0.000000   \n",
       "25%                               0.000000   \n",
       "50%                               0.015048   \n",
       "75%                               0.053379   \n",
       "max                               0.139929   \n",
       "\n",
       "       thi,thi hotel,recommend thi,stay thi,recommend  \\\n",
       "count                                      139.000000   \n",
       "mean                                         0.028945   \n",
       "std                                          0.033425   \n",
       "min                                          0.000000   \n",
       "25%                                          0.000000   \n",
       "50%                                          0.013274   \n",
       "75%                                          0.050384   \n",
       "max                                          0.117925   \n",
       "\n",
       "       chicago,downtown,visit,luxuri,definit    polarity  tb_subjective  \\\n",
       "count                             139.000000  139.000000     139.000000   \n",
       "mean                                0.142932    0.920863       0.592162   \n",
       "std                                 0.033635    0.270928       0.093651   \n",
       "min                                 0.062223    0.000000       0.380000   \n",
       "25%                                 0.115699    1.000000       0.526042   \n",
       "50%                                 0.142811    1.000000       0.580952   \n",
       "75%                                 0.167697    1.000000       0.651698   \n",
       "max                                 0.221129    1.000000       0.816667   \n",
       "\n",
       "       review_length  cluster  \n",
       "count     139.000000    139.0  \n",
       "mean      111.431655      7.0  \n",
       "std        47.204312      0.0  \n",
       "min        30.000000      7.0  \n",
       "25%        75.000000      7.0  \n",
       "50%       103.000000      7.0  \n",
       "75%       132.500000      7.0  \n",
       "max       272.000000      7.0  "
      ]
     },
     "execution_count": 24,
     "metadata": {},
     "output_type": "execute_result"
    }
   ],
   "source": [
    "bigram_add_feat[bigram_add_feat['cluster'] == 7].describe()"
   ]
  },
  {
   "cell_type": "code",
   "execution_count": 18,
   "metadata": {
    "ExecuteTime": {
     "end_time": "2020-08-19T01:26:05.230292Z",
     "start_time": "2020-08-19T01:26:05.223196Z"
    }
   },
   "outputs": [
    {
     "data": {
      "text/plain": [
       "\"The Palmer House Hilton hotel takes luxury to a whole new level of existence. The rooms are beautifully decorated, with class and superior quality furniture. The hotels restaurant 'lockwood' consist's of delicious French and Italian cuisine. The location is in the prime area to downtown, and shopping areas. This hotel is suited for pristine guests, and those who are not willing to settle for less. If you're looking for not just any stay, but a stay in luxury, you should give The Palmer House Hilton a try. It is one of the best of the best in Chicago, and your stay will be one to remember.\\n\""
      ]
     },
     "execution_count": 18,
     "metadata": {},
     "output_type": "execute_result"
    }
   ],
   "source": [
    "bigram_add_feat[bigram_add_feat['cluster'] == 7].loc[755,'text']"
   ]
  },
  {
   "cell_type": "code",
   "execution_count": 19,
   "metadata": {
    "ExecuteTime": {
     "end_time": "2020-08-19T01:26:23.047567Z",
     "start_time": "2020-08-19T01:26:22.899659Z"
    }
   },
   "outputs": [
    {
     "data": {
      "text/plain": [
       "<matplotlib.axes._subplots.AxesSubplot at 0x7ffeb5126a00>"
      ]
     },
     "execution_count": 19,
     "metadata": {},
     "output_type": "execute_result"
    },
    {
     "data": {
      "image/png": "[encoded data removed]",
      "text/plain": [
       "<Figure size 432x288 with 1 Axes>"
      ]
     },
     "metadata": {
      "needs_background": "light"
     },
     "output_type": "display_data"
    }
   ],
   "source": [
    "sns.kdeplot(bigram_add_feat[bigram_add_feat['target'] == 'truthful'].cluster, \n",
    "            shade=True, label='Genuine')\n",
    "sns.kdeplot(bigram_add_feat[bigram_add_feat['target'] == 'deceptive'].cluster, \n",
    "            shade=True, label='Fraudulent')"
   ]
  },
  {
   "cell_type": "code",
   "execution_count": 23,
   "metadata": {
    "ExecuteTime": {
     "end_time": "2020-08-19T01:28:21.713033Z",
     "start_time": "2020-08-19T01:28:21.708010Z"
    }
   },
   "outputs": [
    {
     "data": {
      "text/plain": [
       "array([[ 1.94672111e+00, -7.86449958e-01, -2.49726923e-02,\n",
       "        -2.49744782e-01, -3.17475332e-01,  9.30648687e-01,\n",
       "         6.42124555e-01, -5.16050817e-01],\n",
       "       [-5.55484211e-01,  7.83028444e-01, -3.92551898e-01,\n",
       "        -4.75740357e-01, -4.30493500e-01, -9.59202881e-01,\n",
       "        -1.17347756e+00,  3.28799171e-02],\n",
       "       [-1.55608512e-01, -9.38214960e-01,  2.59120606e+00,\n",
       "        -3.76243427e-01, -1.69713930e-01,  7.14659332e-01,\n",
       "         6.30005957e-01, -6.31751845e-01],\n",
       "       [-4.52148998e-01,  7.11056642e-02, -8.30919811e-02,\n",
       "         1.42113969e+00, -5.13968748e-01, -9.44700802e-01,\n",
       "        -3.56545980e-01,  7.68190968e-02],\n",
       "       [ 1.28107339e-01, -1.00301836e+00,  2.50031757e-01,\n",
       "         1.72134744e+00,  2.55219851e-01,  1.01469124e+00,\n",
       "         7.86268765e-01, -5.81161459e-01],\n",
       "       [ 3.72299197e-01,  1.90227417e-03,  5.62515361e-02,\n",
       "        -3.95806881e-01,  2.25858058e-02,  1.01469124e+00,\n",
       "        -2.51999447e-01,  2.39408632e-01],\n",
       "       [-3.09956223e-01,  5.26349068e-01, -1.46613384e-01,\n",
       "        -4.76957199e-01, -5.62886558e-01, -9.85521469e-01,\n",
       "         5.45647931e-01, -2.78547235e-01],\n",
       "       [-3.34806613e-01, -8.78121757e-01, -3.57840831e-01,\n",
       "        -2.96585429e-01,  1.81163107e+00,  8.56401024e-01,\n",
       "         3.11404113e-01, -4.20568526e-01],\n",
       "       [-5.56533798e-01,  1.61172473e+00, -4.23129573e-01,\n",
       "        -1.86141427e-01, -4.50917871e-01, -9.66101929e-01,\n",
       "        -4.40326925e-01,  1.94904510e+00]])"
      ]
     },
     "execution_count": 23,
     "metadata": {},
     "output_type": "execute_result"
    }
   ],
   "source": [
    "# cluster 0 is subjectivity front desk service\n",
    "# cluster 1 is subjectivity good location\n",
    "# cluster 2 is subjectivity front desk service\n",
    "# cluster 3 is sentiment polarity good location\n",
    "# cluster 4 is review length high recommendation\n",
    "# cluster 5 is sentiment polarity urban luxury\n",
    "# cluster 6 is review length front desk service\n",
    "# cluster 7 is sentiment polarity cleanliness\n",
    "\n",
    "bigram_plus_cluster.cluster_centers_"
   ]
  },
  {
   "cell_type": "code",
   "execution_count": 22,
   "metadata": {
    "ExecuteTime": {
     "end_time": "2020-08-19T01:27:50.648206Z",
     "start_time": "2020-08-19T01:27:50.642937Z"
    }
   },
   "outputs": [
    {
     "data": {
      "text/plain": [
       "['great,locat,view,walk,night',\n",
       " 'check,desk,night,time,servic',\n",
       " 'veri,room veri,veri nice,clean,nice',\n",
       " 'thi,thi hotel,recommend thi,stay thi,recommend',\n",
       " 'chicago,downtown,visit,luxuri,definit',\n",
       " 'polarity',\n",
       " 'text',\n",
       " 'tb_subjective',\n",
       " 'review_length',\n",
       " 'cluster',\n",
       " 'target']"
      ]
     },
     "execution_count": 22,
     "metadata": {},
     "output_type": "execute_result"
    }
   ],
   "source": [
    "list(bigram_add_feat.columns)"
   ]
  },
  {
   "cell_type": "code",
   "execution_count": 26,
   "metadata": {
    "ExecuteTime": {
     "end_time": "2020-08-19T02:29:48.079937Z",
     "start_time": "2020-08-19T02:29:47.270323Z"
    }
   },
   "outputs": [
    {
     "ename": "AttributeError",
     "evalue": "module 'clean_filter_text' has no attribute 'clean_main'",
     "output_type": "error",
     "traceback": [
      "\u001b[0;31m---------------------------------------------------------------------------\u001b[0m",
      "\u001b[0;31mAttributeError\u001b[0m                            Traceback (most recent call last)",
      "\u001b[0;32m<ipython-input-26-2aa547250732>\u001b[0m in \u001b[0;36m<module>\u001b[0;34m\u001b[0m\n\u001b[0;32m----> 1\u001b[0;31m \u001b[0mxva_df\u001b[0m \u001b[0;34m=\u001b[0m \u001b[0mcft\u001b[0m\u001b[0;34m.\u001b[0m\u001b[0mclean_main\u001b[0m\u001b[0;34m(\u001b[0m\u001b[0mx_va\u001b[0m\u001b[0;34m)\u001b[0m\u001b[0;34m\u001b[0m\u001b[0;34m\u001b[0m\u001b[0m\n\u001b[0m",
      "\u001b[0;31mAttributeError\u001b[0m: module 'clean_filter_text' has no attribute 'clean_main'"
     ]
    }
   ],
   "source": [
    "xva_df = cft(x_va)"
   ]
  },
  {
   "cell_type": "code",
   "execution_count": 25,
   "metadata": {
    "ExecuteTime": {
     "end_time": "2020-08-19T02:27:53.068580Z",
     "start_time": "2020-08-19T02:27:52.960791Z"
    }
   },
   "outputs": [
    {
     "data": {
      "text/html": [
       "<div>\n",
       "<style scoped>\n",
       "    .dataframe tbody tr th:only-of-type {\n",
       "        vertical-align: middle;\n",
       "    }\n",
       "\n",
       "    .dataframe tbody tr th {\n",
       "        vertical-align: top;\n",
       "    }\n",
       "\n",
       "    .dataframe thead th {\n",
       "        text-align: right;\n",
       "    }\n",
       "</style>\n",
       "<table border=\"1\" class=\"dataframe\">\n",
       "  <thead>\n",
       "    <tr style=\"text-align: right;\">\n",
       "      <th></th>\n",
       "      <th>hotel</th>\n",
       "      <th>polarity</th>\n",
       "      <th>source</th>\n",
       "      <th>text</th>\n",
       "    </tr>\n",
       "  </thead>\n",
       "  <tbody>\n",
       "    <tr>\n",
       "      <th>317</th>\n",
       "      <td>sofitel</td>\n",
       "      <td>positive</td>\n",
       "      <td>TripAdvisor</td>\n",
       "      <td>I read the reviews on Trip Advisor for this pr...</td>\n",
       "    </tr>\n",
       "    <tr>\n",
       "      <th>394</th>\n",
       "      <td>intercontinental</td>\n",
       "      <td>positive</td>\n",
       "      <td>TripAdvisor</td>\n",
       "      <td>We stayed at the Intercontinental for three ni...</td>\n",
       "    </tr>\n",
       "    <tr>\n",
       "      <th>91</th>\n",
       "      <td>knickerbocker</td>\n",
       "      <td>positive</td>\n",
       "      <td>TripAdvisor</td>\n",
       "      <td>I loved this hotel - fabulous old building but...</td>\n",
       "    </tr>\n",
       "    <tr>\n",
       "      <th>66</th>\n",
       "      <td>fairmont</td>\n",
       "      <td>positive</td>\n",
       "      <td>TripAdvisor</td>\n",
       "      <td>We recently completed our second stay at the F...</td>\n",
       "    </tr>\n",
       "    <tr>\n",
       "      <th>1138</th>\n",
       "      <td>allegro</td>\n",
       "      <td>negative</td>\n",
       "      <td>Web</td>\n",
       "      <td>Me and my husband stayed in the Allegro Hotel ...</td>\n",
       "    </tr>\n",
       "    <tr>\n",
       "      <th>...</th>\n",
       "      <td>...</td>\n",
       "      <td>...</td>\n",
       "      <td>...</td>\n",
       "      <td>...</td>\n",
       "    </tr>\n",
       "    <tr>\n",
       "      <th>786</th>\n",
       "      <td>palmer</td>\n",
       "      <td>positive</td>\n",
       "      <td>MTurk</td>\n",
       "      <td>The Palmer House Hilton in Chicago is by far t...</td>\n",
       "    </tr>\n",
       "    <tr>\n",
       "      <th>1067</th>\n",
       "      <td>hilton</td>\n",
       "      <td>negative</td>\n",
       "      <td>Web</td>\n",
       "      <td>The hotel is very impressive upon entering and...</td>\n",
       "    </tr>\n",
       "    <tr>\n",
       "      <th>46</th>\n",
       "      <td>hyatt</td>\n",
       "      <td>positive</td>\n",
       "      <td>TripAdvisor</td>\n",
       "      <td>I stayed here for business and loved it. Got i...</td>\n",
       "    </tr>\n",
       "    <tr>\n",
       "      <th>785</th>\n",
       "      <td>amalfi</td>\n",
       "      <td>positive</td>\n",
       "      <td>MTurk</td>\n",
       "      <td>I recently stayed at the Amalfi Chicago with m...</td>\n",
       "    </tr>\n",
       "    <tr>\n",
       "      <th>1412</th>\n",
       "      <td>hardrock</td>\n",
       "      <td>negative</td>\n",
       "      <td>MTurk</td>\n",
       "      <td>The hard rock hotel Chicago is not as good as ...</td>\n",
       "    </tr>\n",
       "  </tbody>\n",
       "</table>\n",
       "<p>320 rows × 4 columns</p>\n",
       "</div>"
      ],
      "text/plain": [
       "                 hotel  polarity       source  \\\n",
       "317            sofitel  positive  TripAdvisor   \n",
       "394   intercontinental  positive  TripAdvisor   \n",
       "91       knickerbocker  positive  TripAdvisor   \n",
       "66            fairmont  positive  TripAdvisor   \n",
       "1138           allegro  negative          Web   \n",
       "...                ...       ...          ...   \n",
       "786             palmer  positive        MTurk   \n",
       "1067            hilton  negative          Web   \n",
       "46               hyatt  positive  TripAdvisor   \n",
       "785             amalfi  positive        MTurk   \n",
       "1412          hardrock  negative        MTurk   \n",
       "\n",
       "                                                   text  \n",
       "317   I read the reviews on Trip Advisor for this pr...  \n",
       "394   We stayed at the Intercontinental for three ni...  \n",
       "91    I loved this hotel - fabulous old building but...  \n",
       "66    We recently completed our second stay at the F...  \n",
       "1138  Me and my husband stayed in the Allegro Hotel ...  \n",
       "...                                                 ...  \n",
       "786   The Palmer House Hilton in Chicago is by far t...  \n",
       "1067  The hotel is very impressive upon entering and...  \n",
       "46    I stayed here for business and loved it. Got i...  \n",
       "785   I recently stayed at the Amalfi Chicago with m...  \n",
       "1412  The hard rock hotel Chicago is not as good as ...  \n",
       "\n",
       "[320 rows x 4 columns]"
      ]
     },
     "execution_count": 25,
     "metadata": {},
     "output_type": "execute_result"
    }
   ],
   "source": [
    "xva_nmf = nmf_obj()\n",
    "xva_nmf.init_tfidf(ngram=(1,2))\n",
    "xva_nmf.init_tdm(file_df)\n",
    "xva_nmf.init_nmf(5)"
   ]
  },
  {
   "cell_type": "code",
   "execution_count": null,
   "metadata": {},
   "outputs": [],
   "source": []
  },
  {
   "cell_type": "code",
   "execution_count": null,
   "metadata": {},
   "outputs": [],
   "source": []
  },
  {
   "cell_type": "code",
   "execution_count": null,
   "metadata": {},
   "outputs": [],
   "source": []
  },
  {
   "cell_type": "code",
   "execution_count": null,
   "metadata": {},
   "outputs": [],
   "source": []
  },
  {
   "cell_type": "code",
   "execution_count": null,
   "metadata": {},
   "outputs": [],
   "source": []
  },
  {
   "cell_type": "code",
   "execution_count": null,
   "metadata": {},
   "outputs": [],
   "source": []
  },
  {
   "cell_type": "code",
   "execution_count": null,
   "metadata": {},
   "outputs": [],
   "source": []
  },
  {
   "cell_type": "code",
   "execution_count": null,
   "metadata": {},
   "outputs": [],
   "source": []
  },
  {
   "cell_type": "code",
   "execution_count": null,
   "metadata": {},
   "outputs": [],
   "source": []
  },
  {
   "cell_type": "code",
   "execution_count": null,
   "metadata": {},
   "outputs": [],
   "source": []
  },
  {
   "cell_type": "code",
   "execution_count": null,
   "metadata": {},
   "outputs": [],
   "source": []
  },
  {
   "cell_type": "code",
   "execution_count": null,
   "metadata": {},
   "outputs": [],
   "source": []
  },
  {
   "cell_type": "code",
   "execution_count": null,
   "metadata": {
    "ExecuteTime": {
     "end_time": "2020-08-18T20:12:02.594455Z",
     "start_time": "2020-08-18T20:12:02.577017Z"
    }
   },
   "outputs": [],
   "source": []
  },
  {
   "cell_type": "code",
   "execution_count": null,
   "metadata": {},
   "outputs": [],
   "source": []
  },
  {
   "cell_type": "code",
   "execution_count": null,
   "metadata": {},
   "outputs": [],
   "source": []
  },
  {
   "cell_type": "code",
   "execution_count": null,
   "metadata": {},
   "outputs": [],
   "source": []
  },
  {
   "cell_type": "code",
   "execution_count": null,
   "metadata": {},
   "outputs": [],
   "source": []
  },
  {
   "cell_type": "code",
   "execution_count": null,
   "metadata": {},
   "outputs": [],
   "source": []
  }
 ],
 "metadata": {
  "kernelspec": {
   "display_name": "Python [conda env:metis] *",
   "language": "python",
   "name": "conda-env-metis-py"
  },
  "language_info": {
   "codemirror_mode": {
    "name": "ipython",
    "version": 3
   },
   "file_extension": ".py",
   "mimetype": "text/x-python",
   "name": "python",
   "nbconvert_exporter": "python",
   "pygments_lexer": "ipython3",
   "version": "3.8.3"
  }
 },
 "nbformat": 4,
 "nbformat_minor": 4
}
