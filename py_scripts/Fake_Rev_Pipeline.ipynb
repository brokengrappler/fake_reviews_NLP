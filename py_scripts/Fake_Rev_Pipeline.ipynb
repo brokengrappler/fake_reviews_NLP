{
 "cells": [
  {
   "cell_type": "code",
   "execution_count": 1,
   "metadata": {
    "ExecuteTime": {
     "end_time": "2020-10-10T22:48:38.148181Z",
     "start_time": "2020-10-10T22:48:35.713268Z"
    }
   },
   "outputs": [],
   "source": [
    "import pandas as pd\n",
    "from sklearn.model_selection import train_test_split\n",
    "from sklearn.preprocessing import StandardScaler\n",
    "import numpy as np\n",
    "from textblob import TextBlob\n",
    "from sklearn.cluster import KMeans\n",
    "import seaborn as sns\n",
    "from sklearn.metrics import confusion_matrix as cm\n",
    "import matplotlib.pyplot as plt\n",
    "from sklearn.metrics import f1_score\n",
    "from sklearn.mixture import GaussianMixture as GMM\n",
    "\n",
    "from topic_meta_data import add_features_to_topics\n",
    "import clean_filter_text as cft\n",
    "from input_pipeline import nmf_obj"
   ]
  },
  {
   "cell_type": "code",
   "execution_count": 2,
   "metadata": {
    "ExecuteTime": {
     "end_time": "2020-10-10T22:48:38.186930Z",
     "start_time": "2020-10-10T22:48:38.151463Z"
    }
   },
   "outputs": [],
   "source": [
    "reviews = pd.read_csv('../raw_data/deceptive-opinion.csv')\n",
    "y = reviews['deceptive']\n",
    "x = reviews.drop('deceptive', axis=1)\n",
    "x_tv, x_te, y_tv, y_te = train_test_split(x, y, test_size=0.2, random_state=444)\n",
    "x_tr, x_va, y_tr, y_va = train_test_split(x_tv, y_tv, test_size=0.25, random_state=444)"
   ]
  },
  {
   "cell_type": "code",
   "execution_count": 21,
   "metadata": {
    "ExecuteTime": {
     "end_time": "2020-08-22T21:25:54.306316Z",
     "start_time": "2020-08-22T21:25:54.303399Z"
    }
   },
   "outputs": [],
   "source": [
    "#file_df = pd.read_pickle('../pickles/clean_hotel_reviews.pkl')"
   ]
  },
  {
   "cell_type": "code",
   "execution_count": 3,
   "metadata": {
    "ExecuteTime": {
     "end_time": "2020-10-10T22:48:54.017149Z",
     "start_time": "2020-10-10T22:48:41.357157Z"
    }
   },
   "outputs": [],
   "source": [
    "file_df = cft.main_clean(x_tv)"
   ]
  },
  {
   "cell_type": "code",
   "execution_count": 4,
   "metadata": {
    "ExecuteTime": {
     "end_time": "2020-10-10T22:48:54.289850Z",
     "start_time": "2020-10-10T22:48:54.019546Z"
    }
   },
   "outputs": [
    {
     "name": "stdout",
     "output_type": "stream",
     "text": [
      "        0         1            2       3        4\n",
      "0  servic      like        hotel  luxuri   experi\n",
      "1   check      desk       reserv    told     time\n",
      "2   night  bathroom          bed   floor     good\n",
      "3   staff  friendli        clean    help  definit\n",
      "4   great     locat  great locat    view     nice\n"
     ]
    }
   ],
   "source": [
    "bigram_nmf = nmf_obj()\n",
    "bigram_nmf.init_tfidf(ngram=(1,2))\n",
    "bigram_nmf.init_tdm(file_df)\n",
    "bigram_nmf.init_nmf(5)\n",
    "bigram_nmf.display_topics()\n",
    "bigram_df = bigram_nmf.export_topic_df()"
   ]
  },
  {
   "cell_type": "code",
   "execution_count": 5,
   "metadata": {
    "ExecuteTime": {
     "end_time": "2020-10-10T22:49:00.006977Z",
     "start_time": "2020-10-10T22:49:00.002379Z"
    }
   },
   "outputs": [],
   "source": [
    "def kmeans_cluster(k, data):\n",
    "    km = KMeans(n_clusters=k, random_state=444)\n",
    "    km.fit_predict(data)\n",
    "    return km"
   ]
  },
  {
   "cell_type": "markdown",
   "metadata": {},
   "source": [
    "# Bi-gram x_train"
   ]
  },
  {
   "cell_type": "code",
   "execution_count": 6,
   "metadata": {
    "ExecuteTime": {
     "end_time": "2020-10-10T22:49:01.675429Z",
     "start_time": "2020-10-10T22:49:01.658193Z"
    }
   },
   "outputs": [
    {
     "data": {
      "text/html": [
       "<div>\n",
       "<style scoped>\n",
       "    .dataframe tbody tr th:only-of-type {\n",
       "        vertical-align: middle;\n",
       "    }\n",
       "\n",
       "    .dataframe tbody tr th {\n",
       "        vertical-align: top;\n",
       "    }\n",
       "\n",
       "    .dataframe thead th {\n",
       "        text-align: right;\n",
       "    }\n",
       "</style>\n",
       "<table border=\"1\" class=\"dataframe\">\n",
       "  <thead>\n",
       "    <tr style=\"text-align: right;\">\n",
       "      <th></th>\n",
       "      <th>servic,like,hotel,luxuri,experi</th>\n",
       "      <th>check,desk,reserv,told,time</th>\n",
       "      <th>night,bathroom,bed,floor,good</th>\n",
       "      <th>staff,friendli,clean,help,definit</th>\n",
       "      <th>great,locat,great locat,view,nice</th>\n",
       "    </tr>\n",
       "  </thead>\n",
       "  <tbody>\n",
       "    <tr>\n",
       "      <th>0</th>\n",
       "      <td>0.088440</td>\n",
       "      <td>0.000000</td>\n",
       "      <td>0.105072</td>\n",
       "      <td>0.074116</td>\n",
       "      <td>0.022476</td>\n",
       "    </tr>\n",
       "    <tr>\n",
       "      <th>1</th>\n",
       "      <td>0.055045</td>\n",
       "      <td>0.000000</td>\n",
       "      <td>0.036732</td>\n",
       "      <td>0.046219</td>\n",
       "      <td>0.091033</td>\n",
       "    </tr>\n",
       "    <tr>\n",
       "      <th>2</th>\n",
       "      <td>0.043661</td>\n",
       "      <td>0.020250</td>\n",
       "      <td>0.063782</td>\n",
       "      <td>0.133419</td>\n",
       "      <td>0.000000</td>\n",
       "    </tr>\n",
       "    <tr>\n",
       "      <th>3</th>\n",
       "      <td>0.110640</td>\n",
       "      <td>0.046923</td>\n",
       "      <td>0.000000</td>\n",
       "      <td>0.080285</td>\n",
       "      <td>0.000000</td>\n",
       "    </tr>\n",
       "    <tr>\n",
       "      <th>4</th>\n",
       "      <td>0.000000</td>\n",
       "      <td>0.073650</td>\n",
       "      <td>0.037476</td>\n",
       "      <td>0.033681</td>\n",
       "      <td>0.063005</td>\n",
       "    </tr>\n",
       "    <tr>\n",
       "      <th>...</th>\n",
       "      <td>...</td>\n",
       "      <td>...</td>\n",
       "      <td>...</td>\n",
       "      <td>...</td>\n",
       "      <td>...</td>\n",
       "    </tr>\n",
       "    <tr>\n",
       "      <th>1275</th>\n",
       "      <td>0.023290</td>\n",
       "      <td>0.000000</td>\n",
       "      <td>0.042605</td>\n",
       "      <td>0.094323</td>\n",
       "      <td>0.029520</td>\n",
       "    </tr>\n",
       "    <tr>\n",
       "      <th>1276</th>\n",
       "      <td>0.007565</td>\n",
       "      <td>0.091834</td>\n",
       "      <td>0.000000</td>\n",
       "      <td>0.119309</td>\n",
       "      <td>0.000000</td>\n",
       "    </tr>\n",
       "    <tr>\n",
       "      <th>1277</th>\n",
       "      <td>0.074850</td>\n",
       "      <td>0.006297</td>\n",
       "      <td>0.000000</td>\n",
       "      <td>0.085126</td>\n",
       "      <td>0.065541</td>\n",
       "    </tr>\n",
       "    <tr>\n",
       "      <th>1278</th>\n",
       "      <td>0.075410</td>\n",
       "      <td>0.070963</td>\n",
       "      <td>0.000000</td>\n",
       "      <td>0.000000</td>\n",
       "      <td>0.023355</td>\n",
       "    </tr>\n",
       "    <tr>\n",
       "      <th>1279</th>\n",
       "      <td>0.080059</td>\n",
       "      <td>0.040401</td>\n",
       "      <td>0.019144</td>\n",
       "      <td>0.000000</td>\n",
       "      <td>0.011810</td>\n",
       "    </tr>\n",
       "  </tbody>\n",
       "</table>\n",
       "<p>1280 rows × 5 columns</p>\n",
       "</div>"
      ],
      "text/plain": [
       "      servic,like,hotel,luxuri,experi  check,desk,reserv,told,time  \\\n",
       "0                            0.088440                     0.000000   \n",
       "1                            0.055045                     0.000000   \n",
       "2                            0.043661                     0.020250   \n",
       "3                            0.110640                     0.046923   \n",
       "4                            0.000000                     0.073650   \n",
       "...                               ...                          ...   \n",
       "1275                         0.023290                     0.000000   \n",
       "1276                         0.007565                     0.091834   \n",
       "1277                         0.074850                     0.006297   \n",
       "1278                         0.075410                     0.070963   \n",
       "1279                         0.080059                     0.040401   \n",
       "\n",
       "      night,bathroom,bed,floor,good  staff,friendli,clean,help,definit  \\\n",
       "0                          0.105072                           0.074116   \n",
       "1                          0.036732                           0.046219   \n",
       "2                          0.063782                           0.133419   \n",
       "3                          0.000000                           0.080285   \n",
       "4                          0.037476                           0.033681   \n",
       "...                             ...                                ...   \n",
       "1275                       0.042605                           0.094323   \n",
       "1276                       0.000000                           0.119309   \n",
       "1277                       0.000000                           0.085126   \n",
       "1278                       0.000000                           0.000000   \n",
       "1279                       0.019144                           0.000000   \n",
       "\n",
       "      great,locat,great locat,view,nice  \n",
       "0                              0.022476  \n",
       "1                              0.091033  \n",
       "2                              0.000000  \n",
       "3                              0.000000  \n",
       "4                              0.063005  \n",
       "...                                 ...  \n",
       "1275                           0.029520  \n",
       "1276                           0.000000  \n",
       "1277                           0.065541  \n",
       "1278                           0.023355  \n",
       "1279                           0.011810  \n",
       "\n",
       "[1280 rows x 5 columns]"
      ]
     },
     "execution_count": 6,
     "metadata": {},
     "output_type": "execute_result"
    }
   ],
   "source": [
    "bigram_df"
   ]
  },
  {
   "cell_type": "code",
   "execution_count": 7,
   "metadata": {
    "ExecuteTime": {
     "end_time": "2020-10-10T22:49:03.382014Z",
     "start_time": "2020-10-10T22:49:03.370981Z"
    }
   },
   "outputs": [
    {
     "data": {
      "text/html": [
       "<div>\n",
       "<style scoped>\n",
       "    .dataframe tbody tr th:only-of-type {\n",
       "        vertical-align: middle;\n",
       "    }\n",
       "\n",
       "    .dataframe tbody tr th {\n",
       "        vertical-align: top;\n",
       "    }\n",
       "\n",
       "    .dataframe thead th {\n",
       "        text-align: right;\n",
       "    }\n",
       "</style>\n",
       "<table border=\"1\" class=\"dataframe\">\n",
       "  <thead>\n",
       "    <tr style=\"text-align: right;\">\n",
       "      <th></th>\n",
       "      <th>hotel</th>\n",
       "      <th>polarity</th>\n",
       "      <th>source</th>\n",
       "      <th>text</th>\n",
       "    </tr>\n",
       "  </thead>\n",
       "  <tbody>\n",
       "    <tr>\n",
       "      <th>318</th>\n",
       "      <td>james</td>\n",
       "      <td>positive</td>\n",
       "      <td>TripAdvisor</td>\n",
       "      <td>My significant other and I recently spent 3 ni...</td>\n",
       "    </tr>\n",
       "    <tr>\n",
       "      <th>80</th>\n",
       "      <td>sheraton</td>\n",
       "      <td>positive</td>\n",
       "      <td>TripAdvisor</td>\n",
       "      <td>The sheraton was a wonderful hotel! When me an...</td>\n",
       "    </tr>\n",
       "    <tr>\n",
       "      <th>367</th>\n",
       "      <td>allegro</td>\n",
       "      <td>positive</td>\n",
       "      <td>TripAdvisor</td>\n",
       "      <td>If you're in Chicago and want to stay in The L...</td>\n",
       "    </tr>\n",
       "    <tr>\n",
       "      <th>1543</th>\n",
       "      <td>amalfi</td>\n",
       "      <td>negative</td>\n",
       "      <td>MTurk</td>\n",
       "      <td>When my husband and I went to Amalfi Hotel we ...</td>\n",
       "    </tr>\n",
       "    <tr>\n",
       "      <th>386</th>\n",
       "      <td>intercontinental</td>\n",
       "      <td>positive</td>\n",
       "      <td>TripAdvisor</td>\n",
       "      <td>We became an Ambassador member just before spe...</td>\n",
       "    </tr>\n",
       "    <tr>\n",
       "      <th>...</th>\n",
       "      <td>...</td>\n",
       "      <td>...</td>\n",
       "      <td>...</td>\n",
       "      <td>...</td>\n",
       "    </tr>\n",
       "    <tr>\n",
       "      <th>67</th>\n",
       "      <td>conrad</td>\n",
       "      <td>positive</td>\n",
       "      <td>TripAdvisor</td>\n",
       "      <td>My husband and I stayed here for New Years eve...</td>\n",
       "    </tr>\n",
       "    <tr>\n",
       "      <th>1288</th>\n",
       "      <td>swissotel</td>\n",
       "      <td>negative</td>\n",
       "      <td>MTurk</td>\n",
       "      <td>We planned a fun time for our kids this summer...</td>\n",
       "    </tr>\n",
       "    <tr>\n",
       "      <th>791</th>\n",
       "      <td>amalfi</td>\n",
       "      <td>positive</td>\n",
       "      <td>MTurk</td>\n",
       "      <td>The Amalfi Hotel Chicago is perfect for a roma...</td>\n",
       "    </tr>\n",
       "    <tr>\n",
       "      <th>1136</th>\n",
       "      <td>amalfi</td>\n",
       "      <td>negative</td>\n",
       "      <td>Web</td>\n",
       "      <td>this is my letter to the management..... Sir o...</td>\n",
       "    </tr>\n",
       "    <tr>\n",
       "      <th>1411</th>\n",
       "      <td>ambassador</td>\n",
       "      <td>negative</td>\n",
       "      <td>MTurk</td>\n",
       "      <td>This hotel seems to take everything about luxu...</td>\n",
       "    </tr>\n",
       "  </tbody>\n",
       "</table>\n",
       "<p>1280 rows × 4 columns</p>\n",
       "</div>"
      ],
      "text/plain": [
       "                 hotel  polarity       source  \\\n",
       "318              james  positive  TripAdvisor   \n",
       "80            sheraton  positive  TripAdvisor   \n",
       "367            allegro  positive  TripAdvisor   \n",
       "1543            amalfi  negative        MTurk   \n",
       "386   intercontinental  positive  TripAdvisor   \n",
       "...                ...       ...          ...   \n",
       "67              conrad  positive  TripAdvisor   \n",
       "1288         swissotel  negative        MTurk   \n",
       "791             amalfi  positive        MTurk   \n",
       "1136            amalfi  negative          Web   \n",
       "1411        ambassador  negative        MTurk   \n",
       "\n",
       "                                                   text  \n",
       "318   My significant other and I recently spent 3 ni...  \n",
       "80    The sheraton was a wonderful hotel! When me an...  \n",
       "367   If you're in Chicago and want to stay in The L...  \n",
       "1543  When my husband and I went to Amalfi Hotel we ...  \n",
       "386   We became an Ambassador member just before spe...  \n",
       "...                                                 ...  \n",
       "67    My husband and I stayed here for New Years eve...  \n",
       "1288  We planned a fun time for our kids this summer...  \n",
       "791   The Amalfi Hotel Chicago is perfect for a roma...  \n",
       "1136  this is my letter to the management..... Sir o...  \n",
       "1411  This hotel seems to take everything about luxu...  \n",
       "\n",
       "[1280 rows x 4 columns]"
      ]
     },
     "execution_count": 7,
     "metadata": {},
     "output_type": "execute_result"
    }
   ],
   "source": [
    "x_tv"
   ]
  },
  {
   "cell_type": "code",
   "execution_count": 8,
   "metadata": {
    "ExecuteTime": {
     "end_time": "2020-10-10T22:49:05.642352Z",
     "start_time": "2020-10-10T22:49:04.553010Z"
    }
   },
   "outputs": [],
   "source": [
    "x_feat = add_features_to_topics(bigram_df, x_tv)"
   ]
  },
  {
   "cell_type": "code",
   "execution_count": 9,
   "metadata": {
    "ExecuteTime": {
     "end_time": "2020-10-10T22:49:05.656738Z",
     "start_time": "2020-10-10T22:49:05.644408Z"
    }
   },
   "outputs": [
    {
     "data": {
      "text/html": [
       "<div>\n",
       "<style scoped>\n",
       "    .dataframe tbody tr th:only-of-type {\n",
       "        vertical-align: middle;\n",
       "    }\n",
       "\n",
       "    .dataframe tbody tr th {\n",
       "        vertical-align: top;\n",
       "    }\n",
       "\n",
       "    .dataframe thead th {\n",
       "        text-align: right;\n",
       "    }\n",
       "</style>\n",
       "<table border=\"1\" class=\"dataframe\">\n",
       "  <thead>\n",
       "    <tr style=\"text-align: right;\">\n",
       "      <th></th>\n",
       "      <th>servic,like,hotel,luxuri,experi</th>\n",
       "      <th>check,desk,reserv,told,time</th>\n",
       "      <th>night,bathroom,bed,floor,good</th>\n",
       "      <th>staff,friendli,clean,help,definit</th>\n",
       "      <th>great,locat,great locat,view,nice</th>\n",
       "      <th>tb_subjective</th>\n",
       "      <th>polarity</th>\n",
       "    </tr>\n",
       "  </thead>\n",
       "  <tbody>\n",
       "    <tr>\n",
       "      <th>318</th>\n",
       "      <td>0.088440</td>\n",
       "      <td>0.000000</td>\n",
       "      <td>0.105072</td>\n",
       "      <td>0.074116</td>\n",
       "      <td>0.022476</td>\n",
       "      <td>0.505855</td>\n",
       "      <td>1</td>\n",
       "    </tr>\n",
       "    <tr>\n",
       "      <th>80</th>\n",
       "      <td>0.055045</td>\n",
       "      <td>0.000000</td>\n",
       "      <td>0.036732</td>\n",
       "      <td>0.046219</td>\n",
       "      <td>0.091033</td>\n",
       "      <td>0.835714</td>\n",
       "      <td>1</td>\n",
       "    </tr>\n",
       "    <tr>\n",
       "      <th>367</th>\n",
       "      <td>0.043661</td>\n",
       "      <td>0.020250</td>\n",
       "      <td>0.063782</td>\n",
       "      <td>0.133419</td>\n",
       "      <td>0.000000</td>\n",
       "      <td>0.623347</td>\n",
       "      <td>1</td>\n",
       "    </tr>\n",
       "    <tr>\n",
       "      <th>1543</th>\n",
       "      <td>0.110640</td>\n",
       "      <td>0.046923</td>\n",
       "      <td>0.000000</td>\n",
       "      <td>0.080285</td>\n",
       "      <td>0.000000</td>\n",
       "      <td>0.600541</td>\n",
       "      <td>0</td>\n",
       "    </tr>\n",
       "    <tr>\n",
       "      <th>386</th>\n",
       "      <td>0.000000</td>\n",
       "      <td>0.073650</td>\n",
       "      <td>0.037476</td>\n",
       "      <td>0.033681</td>\n",
       "      <td>0.063005</td>\n",
       "      <td>0.577341</td>\n",
       "      <td>1</td>\n",
       "    </tr>\n",
       "    <tr>\n",
       "      <th>...</th>\n",
       "      <td>...</td>\n",
       "      <td>...</td>\n",
       "      <td>...</td>\n",
       "      <td>...</td>\n",
       "      <td>...</td>\n",
       "      <td>...</td>\n",
       "      <td>...</td>\n",
       "    </tr>\n",
       "    <tr>\n",
       "      <th>67</th>\n",
       "      <td>0.023290</td>\n",
       "      <td>0.000000</td>\n",
       "      <td>0.042605</td>\n",
       "      <td>0.094323</td>\n",
       "      <td>0.029520</td>\n",
       "      <td>0.586039</td>\n",
       "      <td>1</td>\n",
       "    </tr>\n",
       "    <tr>\n",
       "      <th>1288</th>\n",
       "      <td>0.007565</td>\n",
       "      <td>0.091834</td>\n",
       "      <td>0.000000</td>\n",
       "      <td>0.119309</td>\n",
       "      <td>0.000000</td>\n",
       "      <td>0.375358</td>\n",
       "      <td>0</td>\n",
       "    </tr>\n",
       "    <tr>\n",
       "      <th>791</th>\n",
       "      <td>0.074850</td>\n",
       "      <td>0.006297</td>\n",
       "      <td>0.000000</td>\n",
       "      <td>0.085126</td>\n",
       "      <td>0.065541</td>\n",
       "      <td>0.764286</td>\n",
       "      <td>1</td>\n",
       "    </tr>\n",
       "    <tr>\n",
       "      <th>1136</th>\n",
       "      <td>0.075410</td>\n",
       "      <td>0.070963</td>\n",
       "      <td>0.000000</td>\n",
       "      <td>0.000000</td>\n",
       "      <td>0.023355</td>\n",
       "      <td>0.328571</td>\n",
       "      <td>0</td>\n",
       "    </tr>\n",
       "    <tr>\n",
       "      <th>1411</th>\n",
       "      <td>0.080059</td>\n",
       "      <td>0.040401</td>\n",
       "      <td>0.019144</td>\n",
       "      <td>0.000000</td>\n",
       "      <td>0.011810</td>\n",
       "      <td>0.433889</td>\n",
       "      <td>0</td>\n",
       "    </tr>\n",
       "  </tbody>\n",
       "</table>\n",
       "<p>1280 rows × 7 columns</p>\n",
       "</div>"
      ],
      "text/plain": [
       "      servic,like,hotel,luxuri,experi  check,desk,reserv,told,time  \\\n",
       "318                          0.088440                     0.000000   \n",
       "80                           0.055045                     0.000000   \n",
       "367                          0.043661                     0.020250   \n",
       "1543                         0.110640                     0.046923   \n",
       "386                          0.000000                     0.073650   \n",
       "...                               ...                          ...   \n",
       "67                           0.023290                     0.000000   \n",
       "1288                         0.007565                     0.091834   \n",
       "791                          0.074850                     0.006297   \n",
       "1136                         0.075410                     0.070963   \n",
       "1411                         0.080059                     0.040401   \n",
       "\n",
       "      night,bathroom,bed,floor,good  staff,friendli,clean,help,definit  \\\n",
       "318                        0.105072                           0.074116   \n",
       "80                         0.036732                           0.046219   \n",
       "367                        0.063782                           0.133419   \n",
       "1543                       0.000000                           0.080285   \n",
       "386                        0.037476                           0.033681   \n",
       "...                             ...                                ...   \n",
       "67                         0.042605                           0.094323   \n",
       "1288                       0.000000                           0.119309   \n",
       "791                        0.000000                           0.085126   \n",
       "1136                       0.000000                           0.000000   \n",
       "1411                       0.019144                           0.000000   \n",
       "\n",
       "      great,locat,great locat,view,nice  tb_subjective  polarity  \n",
       "318                            0.022476       0.505855         1  \n",
       "80                             0.091033       0.835714         1  \n",
       "367                            0.000000       0.623347         1  \n",
       "1543                           0.000000       0.600541         0  \n",
       "386                            0.063005       0.577341         1  \n",
       "...                                 ...            ...       ...  \n",
       "67                             0.029520       0.586039         1  \n",
       "1288                           0.000000       0.375358         0  \n",
       "791                            0.065541       0.764286         1  \n",
       "1136                           0.023355       0.328571         0  \n",
       "1411                           0.011810       0.433889         0  \n",
       "\n",
       "[1280 rows x 7 columns]"
      ]
     },
     "execution_count": 9,
     "metadata": {},
     "output_type": "execute_result"
    }
   ],
   "source": [
    "x_feat"
   ]
  },
  {
   "cell_type": "code",
   "execution_count": 10,
   "metadata": {
    "ExecuteTime": {
     "end_time": "2020-10-10T22:49:06.509355Z",
     "start_time": "2020-10-10T22:49:06.499545Z"
    }
   },
   "outputs": [],
   "source": [
    "scaler = StandardScaler()\n",
    "x_feat_sc = scaler.fit_transform(x_feat)"
   ]
  },
  {
   "cell_type": "code",
   "execution_count": 11,
   "metadata": {
    "ExecuteTime": {
     "end_time": "2020-10-10T22:49:07.354773Z",
     "start_time": "2020-10-10T22:49:07.225735Z"
    }
   },
   "outputs": [],
   "source": [
    "bigram_k=8\n",
    "bigram_cluster = kmeans_cluster(bigram_k, x_feat_sc)\n",
    "x_feat['cluster'] = bigram_cluster.labels_\n",
    "x_feat['target'] = y_tv"
   ]
  },
  {
   "cell_type": "code",
   "execution_count": 12,
   "metadata": {
    "ExecuteTime": {
     "end_time": "2020-10-10T22:49:07.865716Z",
     "start_time": "2020-10-10T22:49:07.862924Z"
    }
   },
   "outputs": [],
   "source": [
    "bigram_cc = bigram_cluster.cluster_centers_"
   ]
  },
  {
   "cell_type": "code",
   "execution_count": 13,
   "metadata": {
    "ExecuteTime": {
     "end_time": "2020-10-10T22:49:08.401358Z",
     "start_time": "2020-10-10T22:49:08.375016Z"
    }
   },
   "outputs": [],
   "source": [
    "bigram_gmm = GMM(n_components=8, covariance_type='spherical', max_iter=1000, means_init=bigram_cc, \n",
    "          random_state=444).fit(x_feat_sc)\n",
    "bigram_labels = bigram_gmm.predict(x_feat_sc)\n",
    "bigram_gmm_df = x_feat.copy()"
   ]
  },
  {
   "cell_type": "code",
   "execution_count": 14,
   "metadata": {
    "ExecuteTime": {
     "end_time": "2020-10-10T22:49:08.910613Z",
     "start_time": "2020-10-10T22:49:08.904202Z"
    }
   },
   "outputs": [],
   "source": [
    "bigram_gmm_df['target'] = y_tv.map({'truthful':0, 'deceptive':1})"
   ]
  },
  {
   "cell_type": "code",
   "execution_count": 15,
   "metadata": {
    "ExecuteTime": {
     "end_time": "2020-10-10T22:49:09.921321Z",
     "start_time": "2020-10-10T22:49:09.913168Z"
    }
   },
   "outputs": [
    {
     "data": {
      "text/plain": [
       "6    198\n",
       "3    183\n",
       "7    178\n",
       "2    177\n",
       "4    169\n",
       "5    146\n",
       "1    142\n",
       "0     87\n",
       "Name: cluster, dtype: int64"
      ]
     },
     "execution_count": 15,
     "metadata": {},
     "output_type": "execute_result"
    }
   ],
   "source": [
    "bigram_gmm_df.cluster.value_counts()"
   ]
  },
  {
   "cell_type": "code",
   "execution_count": 16,
   "metadata": {
    "ExecuteTime": {
     "end_time": "2020-10-10T22:49:11.020922Z",
     "start_time": "2020-10-10T22:49:10.994946Z"
    }
   },
   "outputs": [
    {
     "data": {
      "text/html": [
       "<div>\n",
       "<style scoped>\n",
       "    .dataframe tbody tr th:only-of-type {\n",
       "        vertical-align: middle;\n",
       "    }\n",
       "\n",
       "    .dataframe tbody tr th {\n",
       "        vertical-align: top;\n",
       "    }\n",
       "\n",
       "    .dataframe thead th {\n",
       "        text-align: right;\n",
       "    }\n",
       "</style>\n",
       "<table border=\"1\" class=\"dataframe\">\n",
       "  <thead>\n",
       "    <tr style=\"text-align: right;\">\n",
       "      <th>target</th>\n",
       "      <th>0</th>\n",
       "      <th>1</th>\n",
       "      <th>% Deceptive</th>\n",
       "    </tr>\n",
       "    <tr>\n",
       "      <th>cluster</th>\n",
       "      <th></th>\n",
       "      <th></th>\n",
       "      <th></th>\n",
       "    </tr>\n",
       "  </thead>\n",
       "  <tbody>\n",
       "    <tr>\n",
       "      <th>0</th>\n",
       "      <td>32</td>\n",
       "      <td>55</td>\n",
       "      <td>0.632184</td>\n",
       "    </tr>\n",
       "    <tr>\n",
       "      <th>1</th>\n",
       "      <td>92</td>\n",
       "      <td>50</td>\n",
       "      <td>0.352113</td>\n",
       "    </tr>\n",
       "    <tr>\n",
       "      <th>2</th>\n",
       "      <td>69</td>\n",
       "      <td>108</td>\n",
       "      <td>0.610169</td>\n",
       "    </tr>\n",
       "    <tr>\n",
       "      <th>3</th>\n",
       "      <td>40</td>\n",
       "      <td>143</td>\n",
       "      <td>0.781421</td>\n",
       "    </tr>\n",
       "    <tr>\n",
       "      <th>4</th>\n",
       "      <td>71</td>\n",
       "      <td>98</td>\n",
       "      <td>0.579882</td>\n",
       "    </tr>\n",
       "    <tr>\n",
       "      <th>5</th>\n",
       "      <td>124</td>\n",
       "      <td>22</td>\n",
       "      <td>0.150685</td>\n",
       "    </tr>\n",
       "    <tr>\n",
       "      <th>6</th>\n",
       "      <td>144</td>\n",
       "      <td>54</td>\n",
       "      <td>0.272727</td>\n",
       "    </tr>\n",
       "    <tr>\n",
       "      <th>7</th>\n",
       "      <td>68</td>\n",
       "      <td>110</td>\n",
       "      <td>0.617978</td>\n",
       "    </tr>\n",
       "  </tbody>\n",
       "</table>\n",
       "</div>"
      ],
      "text/plain": [
       "target     0    1  % Deceptive\n",
       "cluster                       \n",
       "0         32   55     0.632184\n",
       "1         92   50     0.352113\n",
       "2         69  108     0.610169\n",
       "3         40  143     0.781421\n",
       "4         71   98     0.579882\n",
       "5        124   22     0.150685\n",
       "6        144   54     0.272727\n",
       "7         68  110     0.617978"
      ]
     },
     "execution_count": 16,
     "metadata": {},
     "output_type": "execute_result"
    }
   ],
   "source": [
    "bigram_analysis = pd.crosstab(index=bigram_gmm_df['cluster'],columns=bigram_gmm_df['target'],\n",
    "            values=bigram_gmm_df['target'], aggfunc='count')\n",
    "bigram_analysis['% Deceptive'] = bigram_analysis[1] / (bigram_analysis[1]\\\n",
    "                                                                      +bigram_analysis[0])\n",
    "bigram_analysis"
   ]
  },
  {
   "cell_type": "code",
   "execution_count": 17,
   "metadata": {
    "ExecuteTime": {
     "end_time": "2020-10-10T22:49:15.252904Z",
     "start_time": "2020-10-10T22:49:15.246850Z"
    }
   },
   "outputs": [],
   "source": [
    "bigram_gmm_df['predict'] = bigram_gmm_df['cluster'].map({0:1, 1:0, 2:1, 3:1, 4:0, 5:0, 6:0, 7:1})"
   ]
  },
  {
   "cell_type": "code",
   "execution_count": 18,
   "metadata": {
    "ExecuteTime": {
     "end_time": "2020-10-10T22:49:16.791898Z",
     "start_time": "2020-10-10T22:49:16.604133Z"
    }
   },
   "outputs": [
    {
     "data": {
      "text/plain": [
       "<matplotlib.axes._subplots.AxesSubplot at 0x7fc6e14d51c0>"
      ]
     },
     "execution_count": 18,
     "metadata": {},
     "output_type": "execute_result"
    },
    {
     "data": {
      "image/png": "[encoded data removed]",
      "text/plain": [
       "<Figure size 432x288 with 1 Axes>"
      ]
     },
     "metadata": {
      "needs_background": "light"
     },
     "output_type": "display_data"
    }
   ],
   "source": [
    "sns.kdeplot(bigram_gmm_df[bigram_gmm_df['target'] == 0].cluster, \n",
    "            shade=True, label='Genuine')\n",
    "sns.kdeplot(bigram_gmm_df[bigram_gmm_df['target'] == 1].cluster, \n",
    "            shade=True, label='Fraudulent')"
   ]
  },
  {
   "cell_type": "code",
   "execution_count": 19,
   "metadata": {
    "ExecuteTime": {
     "end_time": "2020-10-10T22:49:22.214624Z",
     "start_time": "2020-10-10T22:49:22.042797Z"
    }
   },
   "outputs": [
    {
     "data": {
      "text/plain": [
       "<matplotlib.axes._subplots.AxesSubplot at 0x7fc6e13127c0>"
      ]
     },
     "execution_count": 19,
     "metadata": {},
     "output_type": "execute_result"
    },
    {
     "data": {
      "image/png": "[encoded data removed]",
      "text/plain": [
       "<Figure size 576x576 with 2 Axes>"
      ]
     },
     "metadata": {
      "needs_background": "light"
     },
     "output_type": "display_data"
    }
   ],
   "source": [
    "plt.figure(figsize=(8,8))\n",
    "plt.title('Confusion Matrix for Hotel Train', fontsize=20)\n",
    "ylabel = ['Actual Genuine', 'Actual Fake']\n",
    "xlabel = ['Predictied Genuine', 'Predicted Fake']\n",
    "bigram_cm = cm(bigram_gmm_df['target'], bigram_gmm_df['predict'])\n",
    "sns.heatmap(bigram_cm, annot=True, fmt='d', xticklabels=xlabel, yticklabels=ylabel,\n",
    "            annot_kws={'size':14}, cmap='Blues', square=True)\n",
    "# plt.savefig('../ppt/Hotel_CM_train.png')"
   ]
  },
  {
   "cell_type": "code",
   "execution_count": 20,
   "metadata": {
    "ExecuteTime": {
     "end_time": "2020-10-10T22:49:27.920265Z",
     "start_time": "2020-10-10T22:49:27.911216Z"
    }
   },
   "outputs": [
    {
     "data": {
      "text/plain": [
       "0.6577075098814229"
      ]
     },
     "execution_count": 20,
     "metadata": {},
     "output_type": "execute_result"
    }
   ],
   "source": [
    "f1_score(bigram_gmm_df['target'], bigram_gmm_df['predict'])"
   ]
  },
  {
   "cell_type": "markdown",
   "metadata": {},
   "source": [
    "# Bi-gram Testing"
   ]
  },
  {
   "cell_type": "code",
   "execution_count": 21,
   "metadata": {
    "ExecuteTime": {
     "end_time": "2020-10-10T22:55:39.607740Z",
     "start_time": "2020-10-10T22:55:36.282674Z"
    }
   },
   "outputs": [
    {
     "name": "stdout",
     "output_type": "stream",
     "text": [
      "        0         1            2       3        4\n",
      "0  servic      like        hotel  luxuri   experi\n",
      "1   check      desk       reserv    told     time\n",
      "2   night  bathroom          bed   floor     good\n",
      "3   staff  friendli        clean    help  definit\n",
      "4   great     locat  great locat    view     nice\n"
     ]
    }
   ],
   "source": [
    "xva_file_df = cft.main_clean(x_te)\n",
    "xva_nmf = nmf_obj()\n",
    "xva_nmf.tdm = bigram_nmf.tfidf.transform(xva_file_df)\n",
    "xva_nmf.nmf_topic = bigram_nmf.nmf.transform(xva_nmf.tdm)\n",
    "\n",
    "xva_nmf.nmf = bigram_nmf.nmf\n",
    "xva_nmf.tfidf = bigram_nmf.tfidf\n",
    "xva_nmf.feature_names = bigram_nmf.feature_names\n",
    "xva_nmf.display_topics()"
   ]
  },
  {
   "cell_type": "code",
   "execution_count": 22,
   "metadata": {
    "ExecuteTime": {
     "end_time": "2020-10-10T22:55:40.764678Z",
     "start_time": "2020-10-10T22:55:40.759497Z"
    }
   },
   "outputs": [],
   "source": [
    "xva_df = xva_nmf.export_topic_df()"
   ]
  },
  {
   "cell_type": "code",
   "execution_count": 23,
   "metadata": {
    "ExecuteTime": {
     "end_time": "2020-10-10T22:55:41.677489Z",
     "start_time": "2020-10-10T22:55:41.400311Z"
    }
   },
   "outputs": [],
   "source": [
    "xva_feat = add_features_to_topics(xva_df, x_te)\n",
    "xva_feat_sc = scaler.transform(xva_feat)"
   ]
  },
  {
   "cell_type": "code",
   "execution_count": 24,
   "metadata": {
    "ExecuteTime": {
     "end_time": "2020-10-10T22:55:41.938317Z",
     "start_time": "2020-10-10T22:55:41.931579Z"
    }
   },
   "outputs": [],
   "source": [
    "bigram_cluster_pred = bigram_gmm.predict_proba(xva_feat_sc)"
   ]
  },
  {
   "cell_type": "code",
   "execution_count": 25,
   "metadata": {
    "ExecuteTime": {
     "end_time": "2020-10-10T22:55:42.534561Z",
     "start_time": "2020-10-10T22:55:42.525737Z"
    }
   },
   "outputs": [],
   "source": [
    "xva_clust_pred = bigram_gmm.predict(xva_feat_sc)\n",
    "xva_bigram_result = xva_feat.copy()\n",
    "xva_bigram_result['cluster'] = xva_clust_pred\n",
    "xva_bigram_result['target'] = y_te.map({'truthful':0, 'deceptive':1})"
   ]
  },
  {
   "cell_type": "code",
   "execution_count": 26,
   "metadata": {
    "ExecuteTime": {
     "end_time": "2020-10-10T22:55:43.345775Z",
     "start_time": "2020-10-10T22:55:43.338822Z"
    }
   },
   "outputs": [],
   "source": [
    "xva_bigram_result['predict'] = xva_bigram_result['cluster'].map({0:0, 1:0, 2:1, 3:1, 4:0, 5:0, 6:0, 7:1})"
   ]
  },
  {
   "cell_type": "code",
   "execution_count": null,
   "metadata": {
    "ExecuteTime": {
     "end_time": "2020-08-22T19:56:42.039583Z",
     "start_time": "2020-08-22T19:56:42.036979Z"
    }
   },
   "outputs": [],
   "source": [
    "# 0, 2, 3, 7 are deceptive leaning\n",
    "# 1, 4, 5, 6 are genuine leaning"
   ]
  },
  {
   "cell_type": "code",
   "execution_count": 28,
   "metadata": {
    "ExecuteTime": {
     "end_time": "2020-10-10T22:55:51.530738Z",
     "start_time": "2020-10-10T22:55:51.367624Z"
    }
   },
   "outputs": [
    {
     "data": {
      "text/plain": [
       "<matplotlib.axes._subplots.AxesSubplot at 0x7fc6de2b1ca0>"
      ]
     },
     "execution_count": 28,
     "metadata": {},
     "output_type": "execute_result"
    },
    {
     "data": {
      "image/png": "[encoded data removed]",
      "text/plain": [
       "<Figure size 576x576 with 2 Axes>"
      ]
     },
     "metadata": {
      "needs_background": "light"
     },
     "output_type": "display_data"
    }
   ],
   "source": [
    "plt.figure(figsize=(8,8))\n",
    "plt.title('Confusion Matrix for Hotel Test Set', fontsize=20)\n",
    "ylabel = ['Actual Genuine', 'Actual Fake']\n",
    "xlabel = ['Predictied Genuine', 'Predicted Fake']\n",
    "bigram_cm = cm(xva_bigram_result['target'], xva_bigram_result['predict'])\n",
    "sns.heatmap(bigram_cm, annot=True, fmt='d', xticklabels=xlabel, yticklabels=ylabel,\n",
    "            annot_kws={'size':14}, cmap='Blues', square=True)\n",
    "# plt.savefig('../ppt/Hotel_CM_test.png')"
   ]
  },
  {
   "cell_type": "code",
   "execution_count": 29,
   "metadata": {
    "ExecuteTime": {
     "end_time": "2020-10-10T22:55:54.326533Z",
     "start_time": "2020-10-10T22:55:54.318121Z"
    }
   },
   "outputs": [
    {
     "data": {
      "text/plain": [
       "0.6225165562913908"
      ]
     },
     "execution_count": 29,
     "metadata": {},
     "output_type": "execute_result"
    }
   ],
   "source": [
    "f1_score(xva_bigram_result['target'], xva_bigram_result['predict'])"
   ]
  },
  {
   "cell_type": "markdown",
   "metadata": {},
   "source": [
    "# Uni-gram model training (topics only)"
   ]
  },
  {
   "cell_type": "code",
   "execution_count": 30,
   "metadata": {
    "ExecuteTime": {
     "end_time": "2020-10-10T22:56:07.256368Z",
     "start_time": "2020-10-10T22:56:07.078524Z"
    }
   },
   "outputs": [
    {
     "name": "stdout",
     "output_type": "stream",
     "text": [
      "        0         1       2      3        4\n",
      "0  servic      like   hotel  place   luxuri\n",
      "1   check      desk  reserv   told    minut\n",
      "2   night  bathroom     bed  floor     good\n",
      "3   staff  friendli   clean   help  definit\n",
      "4   great     locat    view   citi     shop\n"
     ]
    }
   ],
   "source": [
    "unigram_nmf = nmf_obj()\n",
    "unigram_nmf.init_tfidf(ngram=(1,1))\n",
    "unigram_nmf.init_tdm(file_df)\n",
    "unigram_nmf.init_nmf(5)\n",
    "unigram_nmf.display_topics()"
   ]
  },
  {
   "cell_type": "code",
   "execution_count": 31,
   "metadata": {
    "ExecuteTime": {
     "end_time": "2020-10-10T22:56:08.269708Z",
     "start_time": "2020-10-10T22:56:08.254617Z"
    }
   },
   "outputs": [
    {
     "data": {
      "text/html": [
       "<div>\n",
       "<style scoped>\n",
       "    .dataframe tbody tr th:only-of-type {\n",
       "        vertical-align: middle;\n",
       "    }\n",
       "\n",
       "    .dataframe tbody tr th {\n",
       "        vertical-align: top;\n",
       "    }\n",
       "\n",
       "    .dataframe thead th {\n",
       "        text-align: right;\n",
       "    }\n",
       "</style>\n",
       "<table border=\"1\" class=\"dataframe\">\n",
       "  <thead>\n",
       "    <tr style=\"text-align: right;\">\n",
       "      <th></th>\n",
       "      <th>servic,like,hotel,place,luxuri</th>\n",
       "      <th>check,desk,reserv,told,minut</th>\n",
       "      <th>night,bathroom,bed,floor,good</th>\n",
       "      <th>staff,friendli,clean,help,definit</th>\n",
       "      <th>great,locat,view,citi,shop</th>\n",
       "    </tr>\n",
       "  </thead>\n",
       "  <tbody>\n",
       "    <tr>\n",
       "      <th>318</th>\n",
       "      <td>0.086677</td>\n",
       "      <td>0.000000</td>\n",
       "      <td>0.103176</td>\n",
       "      <td>0.073894</td>\n",
       "      <td>0.019795</td>\n",
       "    </tr>\n",
       "    <tr>\n",
       "      <th>80</th>\n",
       "      <td>0.047617</td>\n",
       "      <td>0.000000</td>\n",
       "      <td>0.041958</td>\n",
       "      <td>0.048111</td>\n",
       "      <td>0.090459</td>\n",
       "    </tr>\n",
       "    <tr>\n",
       "      <th>367</th>\n",
       "      <td>0.041398</td>\n",
       "      <td>0.027921</td>\n",
       "      <td>0.051893</td>\n",
       "      <td>0.130113</td>\n",
       "      <td>0.000000</td>\n",
       "    </tr>\n",
       "    <tr>\n",
       "      <th>1543</th>\n",
       "      <td>0.109079</td>\n",
       "      <td>0.048065</td>\n",
       "      <td>0.000000</td>\n",
       "      <td>0.074959</td>\n",
       "      <td>0.000000</td>\n",
       "    </tr>\n",
       "    <tr>\n",
       "      <th>386</th>\n",
       "      <td>0.000000</td>\n",
       "      <td>0.073900</td>\n",
       "      <td>0.035556</td>\n",
       "      <td>0.033154</td>\n",
       "      <td>0.064217</td>\n",
       "    </tr>\n",
       "    <tr>\n",
       "      <th>...</th>\n",
       "      <td>...</td>\n",
       "      <td>...</td>\n",
       "      <td>...</td>\n",
       "      <td>...</td>\n",
       "      <td>...</td>\n",
       "    </tr>\n",
       "    <tr>\n",
       "      <th>67</th>\n",
       "      <td>0.021695</td>\n",
       "      <td>0.000000</td>\n",
       "      <td>0.043046</td>\n",
       "      <td>0.095110</td>\n",
       "      <td>0.022770</td>\n",
       "    </tr>\n",
       "    <tr>\n",
       "      <th>1288</th>\n",
       "      <td>0.016320</td>\n",
       "      <td>0.090683</td>\n",
       "      <td>0.000000</td>\n",
       "      <td>0.098332</td>\n",
       "      <td>0.000000</td>\n",
       "    </tr>\n",
       "    <tr>\n",
       "      <th>791</th>\n",
       "      <td>0.056205</td>\n",
       "      <td>0.012513</td>\n",
       "      <td>0.000000</td>\n",
       "      <td>0.091877</td>\n",
       "      <td>0.068837</td>\n",
       "    </tr>\n",
       "    <tr>\n",
       "      <th>1136</th>\n",
       "      <td>0.069074</td>\n",
       "      <td>0.075643</td>\n",
       "      <td>0.000000</td>\n",
       "      <td>0.000000</td>\n",
       "      <td>0.026429</td>\n",
       "    </tr>\n",
       "    <tr>\n",
       "      <th>1411</th>\n",
       "      <td>0.085074</td>\n",
       "      <td>0.036578</td>\n",
       "      <td>0.016450</td>\n",
       "      <td>0.000000</td>\n",
       "      <td>0.013290</td>\n",
       "    </tr>\n",
       "  </tbody>\n",
       "</table>\n",
       "<p>1280 rows × 5 columns</p>\n",
       "</div>"
      ],
      "text/plain": [
       "      servic,like,hotel,place,luxuri  check,desk,reserv,told,minut  \\\n",
       "318                         0.086677                      0.000000   \n",
       "80                          0.047617                      0.000000   \n",
       "367                         0.041398                      0.027921   \n",
       "1543                        0.109079                      0.048065   \n",
       "386                         0.000000                      0.073900   \n",
       "...                              ...                           ...   \n",
       "67                          0.021695                      0.000000   \n",
       "1288                        0.016320                      0.090683   \n",
       "791                         0.056205                      0.012513   \n",
       "1136                        0.069074                      0.075643   \n",
       "1411                        0.085074                      0.036578   \n",
       "\n",
       "      night,bathroom,bed,floor,good  staff,friendli,clean,help,definit  \\\n",
       "318                        0.103176                           0.073894   \n",
       "80                         0.041958                           0.048111   \n",
       "367                        0.051893                           0.130113   \n",
       "1543                       0.000000                           0.074959   \n",
       "386                        0.035556                           0.033154   \n",
       "...                             ...                                ...   \n",
       "67                         0.043046                           0.095110   \n",
       "1288                       0.000000                           0.098332   \n",
       "791                        0.000000                           0.091877   \n",
       "1136                       0.000000                           0.000000   \n",
       "1411                       0.016450                           0.000000   \n",
       "\n",
       "      great,locat,view,citi,shop  \n",
       "318                     0.019795  \n",
       "80                      0.090459  \n",
       "367                     0.000000  \n",
       "1543                    0.000000  \n",
       "386                     0.064217  \n",
       "...                          ...  \n",
       "67                      0.022770  \n",
       "1288                    0.000000  \n",
       "791                     0.068837  \n",
       "1136                    0.026429  \n",
       "1411                    0.013290  \n",
       "\n",
       "[1280 rows x 5 columns]"
      ]
     },
     "execution_count": 31,
     "metadata": {},
     "output_type": "execute_result"
    }
   ],
   "source": [
    "unigram_df = unigram_nmf.export_topic_df()\n",
    "unigram_df.index = x_tv.index\n",
    "unigram_df"
   ]
  },
  {
   "cell_type": "code",
   "execution_count": 32,
   "metadata": {
    "ExecuteTime": {
     "end_time": "2020-10-10T22:56:14.703682Z",
     "start_time": "2020-10-10T22:56:14.629635Z"
    }
   },
   "outputs": [],
   "source": [
    "unigram_k=5\n",
    "unigram_cluster = kmeans_cluster(unigram_k, unigram_df)\n",
    "unigram_result = unigram_df.copy()\n",
    "unigram_result['cluster'] = unigram_cluster.labels_\n",
    "unigram_result['target'] = y_tv"
   ]
  },
  {
   "cell_type": "code",
   "execution_count": 33,
   "metadata": {
    "ExecuteTime": {
     "end_time": "2020-10-10T22:56:15.974040Z",
     "start_time": "2020-10-10T22:56:15.773936Z"
    }
   },
   "outputs": [
    {
     "data": {
      "text/plain": [
       "<matplotlib.axes._subplots.AxesSubplot at 0x7fc6de1fe5b0>"
      ]
     },
     "execution_count": 33,
     "metadata": {},
     "output_type": "execute_result"
    },
    {
     "data": {
      "image/png": "[encoded data removed]",
      "text/plain": [
       "<Figure size 864x432 with 1 Axes>"
      ]
     },
     "metadata": {
      "needs_background": "light"
     },
     "output_type": "display_data"
    }
   ],
   "source": [
    "plt.figure(figsize=(12,6))\n",
    "# Title: KDE for Uni-gram Topic Clustering\n",
    "sns.kdeplot(unigram_result[unigram_result['target'] == 'truthful'].cluster, \n",
    "            shade=True, label='Genuine')\n",
    "sns.kdeplot(unigram_result[unigram_result['target'] == 'deceptive'].cluster, \n",
    "            shade=True, label='Fraudulent')"
   ]
  },
  {
   "cell_type": "code",
   "execution_count": 34,
   "metadata": {
    "ExecuteTime": {
     "end_time": "2020-10-10T22:56:18.306719Z",
     "start_time": "2020-10-10T22:56:18.279795Z"
    }
   },
   "outputs": [],
   "source": [
    "uni_cc = unigram_cluster.cluster_centers_\n",
    "uni_gmm = GMM(n_components=5, covariance_type='spherical', max_iter=1000,means_init=uni_cc, \n",
    "          random_state=444).fit(unigram_df)\n",
    "labels = uni_gmm.predict(unigram_df)\n",
    "uni_gmm_df = unigram_df.copy()\n",
    "uni_gmm_df['cluster']=pd.Series(labels, index=unigram_df.index)\n",
    "uni_gmm_df['target'] = y_tv.map({'truthful':0, 'deceptive':1})"
   ]
  },
  {
   "cell_type": "code",
   "execution_count": 35,
   "metadata": {
    "ExecuteTime": {
     "end_time": "2020-10-10T22:56:19.251057Z",
     "start_time": "2020-10-10T22:56:19.244736Z"
    }
   },
   "outputs": [],
   "source": [
    "uni_gmm_df['predict'] = uni_gmm_df['cluster'].map({0:0, 1:0, 2:1, 3:1, 4:0})"
   ]
  },
  {
   "cell_type": "code",
   "execution_count": 36,
   "metadata": {
    "ExecuteTime": {
     "end_time": "2020-10-10T22:56:19.944998Z",
     "start_time": "2020-10-10T22:56:19.927820Z"
    }
   },
   "outputs": [
    {
     "data": {
      "text/html": [
       "<div>\n",
       "<style scoped>\n",
       "    .dataframe tbody tr th:only-of-type {\n",
       "        vertical-align: middle;\n",
       "    }\n",
       "\n",
       "    .dataframe tbody tr th {\n",
       "        vertical-align: top;\n",
       "    }\n",
       "\n",
       "    .dataframe thead th {\n",
       "        text-align: right;\n",
       "    }\n",
       "</style>\n",
       "<table border=\"1\" class=\"dataframe\">\n",
       "  <thead>\n",
       "    <tr style=\"text-align: right;\">\n",
       "      <th></th>\n",
       "      <th>servic,like,hotel,place,luxuri</th>\n",
       "      <th>check,desk,reserv,told,minut</th>\n",
       "      <th>night,bathroom,bed,floor,good</th>\n",
       "      <th>staff,friendli,clean,help,definit</th>\n",
       "      <th>great,locat,view,citi,shop</th>\n",
       "      <th>cluster</th>\n",
       "      <th>target</th>\n",
       "      <th>predict</th>\n",
       "    </tr>\n",
       "  </thead>\n",
       "  <tbody>\n",
       "    <tr>\n",
       "      <th>318</th>\n",
       "      <td>0.086677</td>\n",
       "      <td>0.000000</td>\n",
       "      <td>0.103176</td>\n",
       "      <td>0.073894</td>\n",
       "      <td>0.019795</td>\n",
       "      <td>0</td>\n",
       "      <td>0</td>\n",
       "      <td>0</td>\n",
       "    </tr>\n",
       "    <tr>\n",
       "      <th>80</th>\n",
       "      <td>0.047617</td>\n",
       "      <td>0.000000</td>\n",
       "      <td>0.041958</td>\n",
       "      <td>0.048111</td>\n",
       "      <td>0.090459</td>\n",
       "      <td>4</td>\n",
       "      <td>0</td>\n",
       "      <td>0</td>\n",
       "    </tr>\n",
       "    <tr>\n",
       "      <th>367</th>\n",
       "      <td>0.041398</td>\n",
       "      <td>0.027921</td>\n",
       "      <td>0.051893</td>\n",
       "      <td>0.130113</td>\n",
       "      <td>0.000000</td>\n",
       "      <td>2</td>\n",
       "      <td>0</td>\n",
       "      <td>1</td>\n",
       "    </tr>\n",
       "    <tr>\n",
       "      <th>1543</th>\n",
       "      <td>0.109079</td>\n",
       "      <td>0.048065</td>\n",
       "      <td>0.000000</td>\n",
       "      <td>0.074959</td>\n",
       "      <td>0.000000</td>\n",
       "      <td>3</td>\n",
       "      <td>1</td>\n",
       "      <td>1</td>\n",
       "    </tr>\n",
       "    <tr>\n",
       "      <th>386</th>\n",
       "      <td>0.000000</td>\n",
       "      <td>0.073900</td>\n",
       "      <td>0.035556</td>\n",
       "      <td>0.033154</td>\n",
       "      <td>0.064217</td>\n",
       "      <td>4</td>\n",
       "      <td>0</td>\n",
       "      <td>0</td>\n",
       "    </tr>\n",
       "    <tr>\n",
       "      <th>...</th>\n",
       "      <td>...</td>\n",
       "      <td>...</td>\n",
       "      <td>...</td>\n",
       "      <td>...</td>\n",
       "      <td>...</td>\n",
       "      <td>...</td>\n",
       "      <td>...</td>\n",
       "      <td>...</td>\n",
       "    </tr>\n",
       "    <tr>\n",
       "      <th>67</th>\n",
       "      <td>0.021695</td>\n",
       "      <td>0.000000</td>\n",
       "      <td>0.043046</td>\n",
       "      <td>0.095110</td>\n",
       "      <td>0.022770</td>\n",
       "      <td>2</td>\n",
       "      <td>0</td>\n",
       "      <td>1</td>\n",
       "    </tr>\n",
       "    <tr>\n",
       "      <th>1288</th>\n",
       "      <td>0.016320</td>\n",
       "      <td>0.090683</td>\n",
       "      <td>0.000000</td>\n",
       "      <td>0.098332</td>\n",
       "      <td>0.000000</td>\n",
       "      <td>2</td>\n",
       "      <td>1</td>\n",
       "      <td>1</td>\n",
       "    </tr>\n",
       "    <tr>\n",
       "      <th>791</th>\n",
       "      <td>0.056205</td>\n",
       "      <td>0.012513</td>\n",
       "      <td>0.000000</td>\n",
       "      <td>0.091877</td>\n",
       "      <td>0.068837</td>\n",
       "      <td>2</td>\n",
       "      <td>1</td>\n",
       "      <td>1</td>\n",
       "    </tr>\n",
       "    <tr>\n",
       "      <th>1136</th>\n",
       "      <td>0.069074</td>\n",
       "      <td>0.075643</td>\n",
       "      <td>0.000000</td>\n",
       "      <td>0.000000</td>\n",
       "      <td>0.026429</td>\n",
       "      <td>3</td>\n",
       "      <td>0</td>\n",
       "      <td>1</td>\n",
       "    </tr>\n",
       "    <tr>\n",
       "      <th>1411</th>\n",
       "      <td>0.085074</td>\n",
       "      <td>0.036578</td>\n",
       "      <td>0.016450</td>\n",
       "      <td>0.000000</td>\n",
       "      <td>0.013290</td>\n",
       "      <td>3</td>\n",
       "      <td>1</td>\n",
       "      <td>1</td>\n",
       "    </tr>\n",
       "  </tbody>\n",
       "</table>\n",
       "<p>1280 rows × 8 columns</p>\n",
       "</div>"
      ],
      "text/plain": [
       "      servic,like,hotel,place,luxuri  check,desk,reserv,told,minut  \\\n",
       "318                         0.086677                      0.000000   \n",
       "80                          0.047617                      0.000000   \n",
       "367                         0.041398                      0.027921   \n",
       "1543                        0.109079                      0.048065   \n",
       "386                         0.000000                      0.073900   \n",
       "...                              ...                           ...   \n",
       "67                          0.021695                      0.000000   \n",
       "1288                        0.016320                      0.090683   \n",
       "791                         0.056205                      0.012513   \n",
       "1136                        0.069074                      0.075643   \n",
       "1411                        0.085074                      0.036578   \n",
       "\n",
       "      night,bathroom,bed,floor,good  staff,friendli,clean,help,definit  \\\n",
       "318                        0.103176                           0.073894   \n",
       "80                         0.041958                           0.048111   \n",
       "367                        0.051893                           0.130113   \n",
       "1543                       0.000000                           0.074959   \n",
       "386                        0.035556                           0.033154   \n",
       "...                             ...                                ...   \n",
       "67                         0.043046                           0.095110   \n",
       "1288                       0.000000                           0.098332   \n",
       "791                        0.000000                           0.091877   \n",
       "1136                       0.000000                           0.000000   \n",
       "1411                       0.016450                           0.000000   \n",
       "\n",
       "      great,locat,view,citi,shop  cluster  target  predict  \n",
       "318                     0.019795        0       0        0  \n",
       "80                      0.090459        4       0        0  \n",
       "367                     0.000000        2       0        1  \n",
       "1543                    0.000000        3       1        1  \n",
       "386                     0.064217        4       0        0  \n",
       "...                          ...      ...     ...      ...  \n",
       "67                      0.022770        2       0        1  \n",
       "1288                    0.000000        2       1        1  \n",
       "791                     0.068837        2       1        1  \n",
       "1136                    0.026429        3       0        1  \n",
       "1411                    0.013290        3       1        1  \n",
       "\n",
       "[1280 rows x 8 columns]"
      ]
     },
     "execution_count": 36,
     "metadata": {},
     "output_type": "execute_result"
    }
   ],
   "source": [
    "uni_gmm_df"
   ]
  },
  {
   "cell_type": "code",
   "execution_count": 37,
   "metadata": {
    "ExecuteTime": {
     "end_time": "2020-10-10T22:56:20.785695Z",
     "start_time": "2020-10-10T22:56:20.762348Z"
    }
   },
   "outputs": [
    {
     "data": {
      "text/html": [
       "<div>\n",
       "<style scoped>\n",
       "    .dataframe tbody tr th:only-of-type {\n",
       "        vertical-align: middle;\n",
       "    }\n",
       "\n",
       "    .dataframe tbody tr th {\n",
       "        vertical-align: top;\n",
       "    }\n",
       "\n",
       "    .dataframe thead th {\n",
       "        text-align: right;\n",
       "    }\n",
       "</style>\n",
       "<table border=\"1\" class=\"dataframe\">\n",
       "  <thead>\n",
       "    <tr style=\"text-align: right;\">\n",
       "      <th>target</th>\n",
       "      <th>0</th>\n",
       "      <th>1</th>\n",
       "      <th>% Deceptive</th>\n",
       "    </tr>\n",
       "    <tr>\n",
       "      <th>cluster</th>\n",
       "      <th></th>\n",
       "      <th></th>\n",
       "      <th></th>\n",
       "    </tr>\n",
       "  </thead>\n",
       "  <tbody>\n",
       "    <tr>\n",
       "      <th>0</th>\n",
       "      <td>218</td>\n",
       "      <td>57</td>\n",
       "      <td>0.207273</td>\n",
       "    </tr>\n",
       "    <tr>\n",
       "      <th>1</th>\n",
       "      <td>110</td>\n",
       "      <td>152</td>\n",
       "      <td>0.580153</td>\n",
       "    </tr>\n",
       "    <tr>\n",
       "      <th>2</th>\n",
       "      <td>99</td>\n",
       "      <td>155</td>\n",
       "      <td>0.610236</td>\n",
       "    </tr>\n",
       "    <tr>\n",
       "      <th>3</th>\n",
       "      <td>88</td>\n",
       "      <td>212</td>\n",
       "      <td>0.706667</td>\n",
       "    </tr>\n",
       "    <tr>\n",
       "      <th>4</th>\n",
       "      <td>125</td>\n",
       "      <td>64</td>\n",
       "      <td>0.338624</td>\n",
       "    </tr>\n",
       "  </tbody>\n",
       "</table>\n",
       "</div>"
      ],
      "text/plain": [
       "target     0    1  % Deceptive\n",
       "cluster                       \n",
       "0        218   57     0.207273\n",
       "1        110  152     0.580153\n",
       "2         99  155     0.610236\n",
       "3         88  212     0.706667\n",
       "4        125   64     0.338624"
      ]
     },
     "execution_count": 37,
     "metadata": {},
     "output_type": "execute_result"
    }
   ],
   "source": [
    "unigram_analysis = pd.crosstab(index=uni_gmm_df['cluster'],columns=uni_gmm_df['target'],\n",
    "            values=uni_gmm_df['target'], aggfunc='count')\n",
    "unigram_analysis['% Deceptive'] = unigram_analysis[1] / (unigram_analysis[1]\\\n",
    "                                                                      +unigram_analysis[0])\n",
    "unigram_analysis"
   ]
  },
  {
   "cell_type": "code",
   "execution_count": 38,
   "metadata": {
    "ExecuteTime": {
     "end_time": "2020-10-10T22:56:21.838689Z",
     "start_time": "2020-10-10T22:56:21.835915Z"
    }
   },
   "outputs": [],
   "source": [
    "# Fake clusters are 3"
   ]
  },
  {
   "cell_type": "code",
   "execution_count": 39,
   "metadata": {
    "ExecuteTime": {
     "end_time": "2020-10-10T22:56:22.687728Z",
     "start_time": "2020-10-10T22:56:22.670759Z"
    }
   },
   "outputs": [
    {
     "data": {
      "text/html": [
       "<div>\n",
       "<style scoped>\n",
       "    .dataframe tbody tr th:only-of-type {\n",
       "        vertical-align: middle;\n",
       "    }\n",
       "\n",
       "    .dataframe tbody tr th {\n",
       "        vertical-align: top;\n",
       "    }\n",
       "\n",
       "    .dataframe thead th {\n",
       "        text-align: right;\n",
       "    }\n",
       "</style>\n",
       "<table border=\"1\" class=\"dataframe\">\n",
       "  <thead>\n",
       "    <tr style=\"text-align: right;\">\n",
       "      <th></th>\n",
       "      <th>servic,like,hotel,place,luxuri</th>\n",
       "      <th>check,desk,reserv,told,minut</th>\n",
       "      <th>night,bathroom,bed,floor,good</th>\n",
       "      <th>staff,friendli,clean,help,definit</th>\n",
       "      <th>great,locat,view,citi,shop</th>\n",
       "      <th>cluster</th>\n",
       "      <th>target</th>\n",
       "      <th>predict</th>\n",
       "    </tr>\n",
       "  </thead>\n",
       "  <tbody>\n",
       "    <tr>\n",
       "      <th>318</th>\n",
       "      <td>0.086677</td>\n",
       "      <td>0.000000</td>\n",
       "      <td>0.103176</td>\n",
       "      <td>0.073894</td>\n",
       "      <td>0.019795</td>\n",
       "      <td>0</td>\n",
       "      <td>0</td>\n",
       "      <td>0</td>\n",
       "    </tr>\n",
       "    <tr>\n",
       "      <th>80</th>\n",
       "      <td>0.047617</td>\n",
       "      <td>0.000000</td>\n",
       "      <td>0.041958</td>\n",
       "      <td>0.048111</td>\n",
       "      <td>0.090459</td>\n",
       "      <td>4</td>\n",
       "      <td>0</td>\n",
       "      <td>0</td>\n",
       "    </tr>\n",
       "    <tr>\n",
       "      <th>367</th>\n",
       "      <td>0.041398</td>\n",
       "      <td>0.027921</td>\n",
       "      <td>0.051893</td>\n",
       "      <td>0.130113</td>\n",
       "      <td>0.000000</td>\n",
       "      <td>2</td>\n",
       "      <td>0</td>\n",
       "      <td>1</td>\n",
       "    </tr>\n",
       "    <tr>\n",
       "      <th>1543</th>\n",
       "      <td>0.109079</td>\n",
       "      <td>0.048065</td>\n",
       "      <td>0.000000</td>\n",
       "      <td>0.074959</td>\n",
       "      <td>0.000000</td>\n",
       "      <td>3</td>\n",
       "      <td>1</td>\n",
       "      <td>1</td>\n",
       "    </tr>\n",
       "    <tr>\n",
       "      <th>386</th>\n",
       "      <td>0.000000</td>\n",
       "      <td>0.073900</td>\n",
       "      <td>0.035556</td>\n",
       "      <td>0.033154</td>\n",
       "      <td>0.064217</td>\n",
       "      <td>4</td>\n",
       "      <td>0</td>\n",
       "      <td>0</td>\n",
       "    </tr>\n",
       "    <tr>\n",
       "      <th>...</th>\n",
       "      <td>...</td>\n",
       "      <td>...</td>\n",
       "      <td>...</td>\n",
       "      <td>...</td>\n",
       "      <td>...</td>\n",
       "      <td>...</td>\n",
       "      <td>...</td>\n",
       "      <td>...</td>\n",
       "    </tr>\n",
       "    <tr>\n",
       "      <th>67</th>\n",
       "      <td>0.021695</td>\n",
       "      <td>0.000000</td>\n",
       "      <td>0.043046</td>\n",
       "      <td>0.095110</td>\n",
       "      <td>0.022770</td>\n",
       "      <td>2</td>\n",
       "      <td>0</td>\n",
       "      <td>1</td>\n",
       "    </tr>\n",
       "    <tr>\n",
       "      <th>1288</th>\n",
       "      <td>0.016320</td>\n",
       "      <td>0.090683</td>\n",
       "      <td>0.000000</td>\n",
       "      <td>0.098332</td>\n",
       "      <td>0.000000</td>\n",
       "      <td>2</td>\n",
       "      <td>1</td>\n",
       "      <td>1</td>\n",
       "    </tr>\n",
       "    <tr>\n",
       "      <th>791</th>\n",
       "      <td>0.056205</td>\n",
       "      <td>0.012513</td>\n",
       "      <td>0.000000</td>\n",
       "      <td>0.091877</td>\n",
       "      <td>0.068837</td>\n",
       "      <td>2</td>\n",
       "      <td>1</td>\n",
       "      <td>1</td>\n",
       "    </tr>\n",
       "    <tr>\n",
       "      <th>1136</th>\n",
       "      <td>0.069074</td>\n",
       "      <td>0.075643</td>\n",
       "      <td>0.000000</td>\n",
       "      <td>0.000000</td>\n",
       "      <td>0.026429</td>\n",
       "      <td>3</td>\n",
       "      <td>0</td>\n",
       "      <td>1</td>\n",
       "    </tr>\n",
       "    <tr>\n",
       "      <th>1411</th>\n",
       "      <td>0.085074</td>\n",
       "      <td>0.036578</td>\n",
       "      <td>0.016450</td>\n",
       "      <td>0.000000</td>\n",
       "      <td>0.013290</td>\n",
       "      <td>3</td>\n",
       "      <td>1</td>\n",
       "      <td>1</td>\n",
       "    </tr>\n",
       "  </tbody>\n",
       "</table>\n",
       "<p>1280 rows × 8 columns</p>\n",
       "</div>"
      ],
      "text/plain": [
       "      servic,like,hotel,place,luxuri  check,desk,reserv,told,minut  \\\n",
       "318                         0.086677                      0.000000   \n",
       "80                          0.047617                      0.000000   \n",
       "367                         0.041398                      0.027921   \n",
       "1543                        0.109079                      0.048065   \n",
       "386                         0.000000                      0.073900   \n",
       "...                              ...                           ...   \n",
       "67                          0.021695                      0.000000   \n",
       "1288                        0.016320                      0.090683   \n",
       "791                         0.056205                      0.012513   \n",
       "1136                        0.069074                      0.075643   \n",
       "1411                        0.085074                      0.036578   \n",
       "\n",
       "      night,bathroom,bed,floor,good  staff,friendli,clean,help,definit  \\\n",
       "318                        0.103176                           0.073894   \n",
       "80                         0.041958                           0.048111   \n",
       "367                        0.051893                           0.130113   \n",
       "1543                       0.000000                           0.074959   \n",
       "386                        0.035556                           0.033154   \n",
       "...                             ...                                ...   \n",
       "67                         0.043046                           0.095110   \n",
       "1288                       0.000000                           0.098332   \n",
       "791                        0.000000                           0.091877   \n",
       "1136                       0.000000                           0.000000   \n",
       "1411                       0.016450                           0.000000   \n",
       "\n",
       "      great,locat,view,citi,shop  cluster  target  predict  \n",
       "318                     0.019795        0       0        0  \n",
       "80                      0.090459        4       0        0  \n",
       "367                     0.000000        2       0        1  \n",
       "1543                    0.000000        3       1        1  \n",
       "386                     0.064217        4       0        0  \n",
       "...                          ...      ...     ...      ...  \n",
       "67                      0.022770        2       0        1  \n",
       "1288                    0.000000        2       1        1  \n",
       "791                     0.068837        2       1        1  \n",
       "1136                    0.026429        3       0        1  \n",
       "1411                    0.013290        3       1        1  \n",
       "\n",
       "[1280 rows x 8 columns]"
      ]
     },
     "execution_count": 39,
     "metadata": {},
     "output_type": "execute_result"
    }
   ],
   "source": [
    "uni_gmm_df"
   ]
  },
  {
   "cell_type": "code",
   "execution_count": 40,
   "metadata": {
    "ExecuteTime": {
     "end_time": "2020-10-10T22:56:28.481796Z",
     "start_time": "2020-10-10T22:56:28.313620Z"
    }
   },
   "outputs": [
    {
     "data": {
      "text/plain": [
       "<matplotlib.axes._subplots.AxesSubplot at 0x7fc6de0119d0>"
      ]
     },
     "execution_count": 40,
     "metadata": {},
     "output_type": "execute_result"
    },
    {
     "data": {
      "image/png": "[encoded data removed]",
      "text/plain": [
       "<Figure size 576x576 with 2 Axes>"
      ]
     },
     "metadata": {
      "needs_background": "light"
     },
     "output_type": "display_data"
    }
   ],
   "source": [
    "plt.figure(figsize=(8,8))\n",
    "plt.title('Confusion Matrix for Hotel Test Set', fontsize=20)\n",
    "ylabel = ['Actual Genuine', 'Actual Fake']\n",
    "xlabel = ['Predictied Genuine', 'Predicted Fake']\n",
    "bigram_cm = cm(uni_gmm_df['target'], uni_gmm_df['predict'])\n",
    "sns.heatmap(bigram_cm, annot=True, fmt='d', xticklabels=xlabel, yticklabels=ylabel,\n",
    "            annot_kws={'size':14}, cmap='Blues', square=True)\n",
    "#plt.savefig('../ppt/Hotel_CM_test.png')"
   ]
  },
  {
   "cell_type": "code",
   "execution_count": 41,
   "metadata": {
    "ExecuteTime": {
     "end_time": "2020-10-10T22:56:30.967822Z",
     "start_time": "2020-10-10T22:56:30.959413Z"
    }
   },
   "outputs": [
    {
     "data": {
      "text/plain": [
       "0.6147403685092128"
      ]
     },
     "execution_count": 41,
     "metadata": {},
     "output_type": "execute_result"
    }
   ],
   "source": [
    "f1_score(uni_gmm_df['target'], uni_gmm_df['predict'])"
   ]
  },
  {
   "cell_type": "markdown",
   "metadata": {},
   "source": [
    "# Yelp Piped by Topic"
   ]
  },
  {
   "cell_type": "code",
   "execution_count": 66,
   "metadata": {
    "ExecuteTime": {
     "end_time": "2020-08-22T21:31:34.770972Z",
     "start_time": "2020-08-22T21:31:33.936251Z"
    }
   },
   "outputs": [],
   "source": [
    "yelp_raw_df = pd.read_pickle('../pickles/short_reviews.pkl')"
   ]
  },
  {
   "cell_type": "code",
   "execution_count": 67,
   "metadata": {
    "ExecuteTime": {
     "end_time": "2020-08-22T21:31:34.791039Z",
     "start_time": "2020-08-22T21:31:34.773105Z"
    }
   },
   "outputs": [],
   "source": [
    "yelp_raw_df.rename({'text_cl':'text'}, axis=1, inplace=True)"
   ]
  },
  {
   "cell_type": "code",
   "execution_count": 68,
   "metadata": {
    "ExecuteTime": {
     "end_time": "2020-08-22T21:31:38.965595Z",
     "start_time": "2020-08-22T21:31:34.793414Z"
    }
   },
   "outputs": [
    {
     "name": "stdout",
     "output_type": "stream",
     "text": [
      "        0         1            2       3        4\n",
      "0  servic      like        hotel  luxuri   experi\n",
      "1   check      desk       reserv    told     time\n",
      "2   night  bathroom          bed   floor     good\n",
      "3   staff  friendli        clean    help  definit\n",
      "4   great     locat  great locat    view     nice\n"
     ]
    }
   ],
   "source": [
    "yelp_nmf = nmf_obj()\n",
    "yelp_nmf.tdm = bigram_nmf.tfidf.transform(yelp_raw_df['text'])\n",
    "yelp_nmf.nmf_topic = bigram_nmf.nmf.transform(yelp_nmf.tdm)\n",
    "\n",
    "yelp_nmf.nmf = bigram_nmf.nmf\n",
    "yelp_nmf.tfidf = bigram_nmf.tfidf\n",
    "yelp_nmf.feature_names = bigram_nmf.feature_names\n",
    "yelp_nmf.display_topics()"
   ]
  },
  {
   "cell_type": "code",
   "execution_count": 69,
   "metadata": {
    "ExecuteTime": {
     "end_time": "2020-08-22T21:31:38.977385Z",
     "start_time": "2020-08-22T21:31:38.967857Z"
    }
   },
   "outputs": [
    {
     "data": {
      "text/html": [
       "<div>\n",
       "<style scoped>\n",
       "    .dataframe tbody tr th:only-of-type {\n",
       "        vertical-align: middle;\n",
       "    }\n",
       "\n",
       "    .dataframe tbody tr th {\n",
       "        vertical-align: top;\n",
       "    }\n",
       "\n",
       "    .dataframe thead th {\n",
       "        text-align: right;\n",
       "    }\n",
       "</style>\n",
       "<table border=\"1\" class=\"dataframe\">\n",
       "  <thead>\n",
       "    <tr style=\"text-align: right;\">\n",
       "      <th></th>\n",
       "      <th>reviewerID</th>\n",
       "      <th>reviewContent</th>\n",
       "      <th>flagged</th>\n",
       "      <th>text</th>\n",
       "    </tr>\n",
       "  </thead>\n",
       "  <tbody>\n",
       "    <tr>\n",
       "      <th>0</th>\n",
       "      <td>bNYesZ944s6IJVowOnB0iA</td>\n",
       "      <td>Unlike Next, which we'd eaten at the previous ...</td>\n",
       "      <td>N</td>\n",
       "      <td>unlik next previou night dish complet recogniz...</td>\n",
       "    </tr>\n",
       "    <tr>\n",
       "      <th>1</th>\n",
       "      <td>TRKxLC3y-ZvP45e5iilMtw</td>\n",
       "      <td>Probably one of the best meals I've had ever. ...</td>\n",
       "      <td>N</td>\n",
       "      <td>probabl one best meal ever perform food grant ...</td>\n",
       "    </tr>\n",
       "    <tr>\n",
       "      <th>2</th>\n",
       "      <td>0EMm8umAqXZzyhxNpL4M9g</td>\n",
       "      <td>Service was impeccable. Experience and present...</td>\n",
       "      <td>N</td>\n",
       "      <td>servic impecc experi present cool balloon fun ...</td>\n",
       "    </tr>\n",
       "    <tr>\n",
       "      <th>3</th>\n",
       "      <td>DlwexC7z88ymAzu45skODw</td>\n",
       "      <td>The problem with places like this, given the e...</td>\n",
       "      <td>N</td>\n",
       "      <td>problem place like exhorbit cost media attent ...</td>\n",
       "    </tr>\n",
       "    <tr>\n",
       "      <th>4</th>\n",
       "      <td>kW2dk1CWihmh3g7k9N2G8A</td>\n",
       "      <td>I have no idea how to write my review - dining...</td>\n",
       "      <td>N</td>\n",
       "      <td>idea write review alinea bring whole differ pe...</td>\n",
       "    </tr>\n",
       "    <tr>\n",
       "      <th>...</th>\n",
       "      <td>...</td>\n",
       "      <td>...</td>\n",
       "      <td>...</td>\n",
       "      <td>...</td>\n",
       "    </tr>\n",
       "    <tr>\n",
       "      <th>67014</th>\n",
       "      <td>fUXNHG4x1AN9oPpBSpCtUw</td>\n",
       "      <td>I've passed this place a bunch of times on my ...</td>\n",
       "      <td>N</td>\n",
       "      <td>place bunch time way olymp northwest cutleri t...</td>\n",
       "    </tr>\n",
       "    <tr>\n",
       "      <th>67015</th>\n",
       "      <td>QQCm2oqSnnz24Z-yHeMtxQ</td>\n",
       "      <td>Rubino's is not really setup as a retail opera...</td>\n",
       "      <td>N</td>\n",
       "      <td>rubino realli setup retail oper price inexpens...</td>\n",
       "    </tr>\n",
       "    <tr>\n",
       "      <th>67016</th>\n",
       "      <td>OXRKydSyzC35n2fNUnbopg</td>\n",
       "      <td>This place is amazing. Â The food is great and...</td>\n",
       "      <td>N</td>\n",
       "      <td>place food great beat price unfortun waist lin...</td>\n",
       "    </tr>\n",
       "    <tr>\n",
       "      <th>67017</th>\n",
       "      <td>NE8ULc362aFvnkTDgvZbcA</td>\n",
       "      <td>OK went back the next day as I was driving by ...</td>\n",
       "      <td>N</td>\n",
       "      <td>back next day lunchtim steak torta instead chi...</td>\n",
       "    </tr>\n",
       "    <tr>\n",
       "      <th>67018</th>\n",
       "      <td>VaPi2-eXcgIpRF_LGSJ_cA</td>\n",
       "      <td>Delicious, rather authentic Mexican food, must...</td>\n",
       "      <td>N</td>\n",
       "      <td>delici rather authent mexican food must tri lo...</td>\n",
       "    </tr>\n",
       "  </tbody>\n",
       "</table>\n",
       "<p>67019 rows × 4 columns</p>\n",
       "</div>"
      ],
      "text/plain": [
       "                   reviewerID  \\\n",
       "0      bNYesZ944s6IJVowOnB0iA   \n",
       "1      TRKxLC3y-ZvP45e5iilMtw   \n",
       "2      0EMm8umAqXZzyhxNpL4M9g   \n",
       "3      DlwexC7z88ymAzu45skODw   \n",
       "4      kW2dk1CWihmh3g7k9N2G8A   \n",
       "...                       ...   \n",
       "67014  fUXNHG4x1AN9oPpBSpCtUw   \n",
       "67015  QQCm2oqSnnz24Z-yHeMtxQ   \n",
       "67016  OXRKydSyzC35n2fNUnbopg   \n",
       "67017  NE8ULc362aFvnkTDgvZbcA   \n",
       "67018  VaPi2-eXcgIpRF_LGSJ_cA   \n",
       "\n",
       "                                           reviewContent flagged  \\\n",
       "0      Unlike Next, which we'd eaten at the previous ...       N   \n",
       "1      Probably one of the best meals I've had ever. ...       N   \n",
       "2      Service was impeccable. Experience and present...       N   \n",
       "3      The problem with places like this, given the e...       N   \n",
       "4      I have no idea how to write my review - dining...       N   \n",
       "...                                                  ...     ...   \n",
       "67014  I've passed this place a bunch of times on my ...       N   \n",
       "67015  Rubino's is not really setup as a retail opera...       N   \n",
       "67016  This place is amazing. Â The food is great and...       N   \n",
       "67017  OK went back the next day as I was driving by ...       N   \n",
       "67018  Delicious, rather authentic Mexican food, must...       N   \n",
       "\n",
       "                                                    text  \n",
       "0      unlik next previou night dish complet recogniz...  \n",
       "1      probabl one best meal ever perform food grant ...  \n",
       "2      servic impecc experi present cool balloon fun ...  \n",
       "3      problem place like exhorbit cost media attent ...  \n",
       "4      idea write review alinea bring whole differ pe...  \n",
       "...                                                  ...  \n",
       "67014  place bunch time way olymp northwest cutleri t...  \n",
       "67015  rubino realli setup retail oper price inexpens...  \n",
       "67016  place food great beat price unfortun waist lin...  \n",
       "67017  back next day lunchtim steak torta instead chi...  \n",
       "67018  delici rather authent mexican food must tri lo...  \n",
       "\n",
       "[67019 rows x 4 columns]"
      ]
     },
     "execution_count": 69,
     "metadata": {},
     "output_type": "execute_result"
    }
   ],
   "source": [
    "yelp_raw_df"
   ]
  },
  {
   "cell_type": "code",
   "execution_count": 70,
   "metadata": {
    "ExecuteTime": {
     "end_time": "2020-08-22T21:31:38.981724Z",
     "start_time": "2020-08-22T21:31:38.979377Z"
    }
   },
   "outputs": [],
   "source": [
    "yelp_df = yelp_nmf.export_topic_df()"
   ]
  },
  {
   "cell_type": "code",
   "execution_count": 71,
   "metadata": {
    "ExecuteTime": {
     "end_time": "2020-08-22T21:31:38.992749Z",
     "start_time": "2020-08-22T21:31:38.983839Z"
    }
   },
   "outputs": [
    {
     "data": {
      "text/html": [
       "<div>\n",
       "<style scoped>\n",
       "    .dataframe tbody tr th:only-of-type {\n",
       "        vertical-align: middle;\n",
       "    }\n",
       "\n",
       "    .dataframe tbody tr th {\n",
       "        vertical-align: top;\n",
       "    }\n",
       "\n",
       "    .dataframe thead th {\n",
       "        text-align: right;\n",
       "    }\n",
       "</style>\n",
       "<table border=\"1\" class=\"dataframe\">\n",
       "  <thead>\n",
       "    <tr style=\"text-align: right;\">\n",
       "      <th></th>\n",
       "      <th>reviewerID</th>\n",
       "      <th>reviewContent</th>\n",
       "      <th>flagged</th>\n",
       "      <th>text</th>\n",
       "    </tr>\n",
       "  </thead>\n",
       "  <tbody>\n",
       "    <tr>\n",
       "      <th>0</th>\n",
       "      <td>bNYesZ944s6IJVowOnB0iA</td>\n",
       "      <td>Unlike Next, which we'd eaten at the previous ...</td>\n",
       "      <td>N</td>\n",
       "      <td>unlik next previou night dish complet recogniz...</td>\n",
       "    </tr>\n",
       "    <tr>\n",
       "      <th>1</th>\n",
       "      <td>TRKxLC3y-ZvP45e5iilMtw</td>\n",
       "      <td>Probably one of the best meals I've had ever. ...</td>\n",
       "      <td>N</td>\n",
       "      <td>probabl one best meal ever perform food grant ...</td>\n",
       "    </tr>\n",
       "    <tr>\n",
       "      <th>2</th>\n",
       "      <td>0EMm8umAqXZzyhxNpL4M9g</td>\n",
       "      <td>Service was impeccable. Experience and present...</td>\n",
       "      <td>N</td>\n",
       "      <td>servic impecc experi present cool balloon fun ...</td>\n",
       "    </tr>\n",
       "    <tr>\n",
       "      <th>3</th>\n",
       "      <td>DlwexC7z88ymAzu45skODw</td>\n",
       "      <td>The problem with places like this, given the e...</td>\n",
       "      <td>N</td>\n",
       "      <td>problem place like exhorbit cost media attent ...</td>\n",
       "    </tr>\n",
       "    <tr>\n",
       "      <th>4</th>\n",
       "      <td>kW2dk1CWihmh3g7k9N2G8A</td>\n",
       "      <td>I have no idea how to write my review - dining...</td>\n",
       "      <td>N</td>\n",
       "      <td>idea write review alinea bring whole differ pe...</td>\n",
       "    </tr>\n",
       "    <tr>\n",
       "      <th>...</th>\n",
       "      <td>...</td>\n",
       "      <td>...</td>\n",
       "      <td>...</td>\n",
       "      <td>...</td>\n",
       "    </tr>\n",
       "    <tr>\n",
       "      <th>67014</th>\n",
       "      <td>fUXNHG4x1AN9oPpBSpCtUw</td>\n",
       "      <td>I've passed this place a bunch of times on my ...</td>\n",
       "      <td>N</td>\n",
       "      <td>place bunch time way olymp northwest cutleri t...</td>\n",
       "    </tr>\n",
       "    <tr>\n",
       "      <th>67015</th>\n",
       "      <td>QQCm2oqSnnz24Z-yHeMtxQ</td>\n",
       "      <td>Rubino's is not really setup as a retail opera...</td>\n",
       "      <td>N</td>\n",
       "      <td>rubino realli setup retail oper price inexpens...</td>\n",
       "    </tr>\n",
       "    <tr>\n",
       "      <th>67016</th>\n",
       "      <td>OXRKydSyzC35n2fNUnbopg</td>\n",
       "      <td>This place is amazing. Â The food is great and...</td>\n",
       "      <td>N</td>\n",
       "      <td>place food great beat price unfortun waist lin...</td>\n",
       "    </tr>\n",
       "    <tr>\n",
       "      <th>67017</th>\n",
       "      <td>NE8ULc362aFvnkTDgvZbcA</td>\n",
       "      <td>OK went back the next day as I was driving by ...</td>\n",
       "      <td>N</td>\n",
       "      <td>back next day lunchtim steak torta instead chi...</td>\n",
       "    </tr>\n",
       "    <tr>\n",
       "      <th>67018</th>\n",
       "      <td>VaPi2-eXcgIpRF_LGSJ_cA</td>\n",
       "      <td>Delicious, rather authentic Mexican food, must...</td>\n",
       "      <td>N</td>\n",
       "      <td>delici rather authent mexican food must tri lo...</td>\n",
       "    </tr>\n",
       "  </tbody>\n",
       "</table>\n",
       "<p>67019 rows × 4 columns</p>\n",
       "</div>"
      ],
      "text/plain": [
       "                   reviewerID  \\\n",
       "0      bNYesZ944s6IJVowOnB0iA   \n",
       "1      TRKxLC3y-ZvP45e5iilMtw   \n",
       "2      0EMm8umAqXZzyhxNpL4M9g   \n",
       "3      DlwexC7z88ymAzu45skODw   \n",
       "4      kW2dk1CWihmh3g7k9N2G8A   \n",
       "...                       ...   \n",
       "67014  fUXNHG4x1AN9oPpBSpCtUw   \n",
       "67015  QQCm2oqSnnz24Z-yHeMtxQ   \n",
       "67016  OXRKydSyzC35n2fNUnbopg   \n",
       "67017  NE8ULc362aFvnkTDgvZbcA   \n",
       "67018  VaPi2-eXcgIpRF_LGSJ_cA   \n",
       "\n",
       "                                           reviewContent flagged  \\\n",
       "0      Unlike Next, which we'd eaten at the previous ...       N   \n",
       "1      Probably one of the best meals I've had ever. ...       N   \n",
       "2      Service was impeccable. Experience and present...       N   \n",
       "3      The problem with places like this, given the e...       N   \n",
       "4      I have no idea how to write my review - dining...       N   \n",
       "...                                                  ...     ...   \n",
       "67014  I've passed this place a bunch of times on my ...       N   \n",
       "67015  Rubino's is not really setup as a retail opera...       N   \n",
       "67016  This place is amazing. Â The food is great and...       N   \n",
       "67017  OK went back the next day as I was driving by ...       N   \n",
       "67018  Delicious, rather authentic Mexican food, must...       N   \n",
       "\n",
       "                                                    text  \n",
       "0      unlik next previou night dish complet recogniz...  \n",
       "1      probabl one best meal ever perform food grant ...  \n",
       "2      servic impecc experi present cool balloon fun ...  \n",
       "3      problem place like exhorbit cost media attent ...  \n",
       "4      idea write review alinea bring whole differ pe...  \n",
       "...                                                  ...  \n",
       "67014  place bunch time way olymp northwest cutleri t...  \n",
       "67015  rubino realli setup retail oper price inexpens...  \n",
       "67016  place food great beat price unfortun waist lin...  \n",
       "67017  back next day lunchtim steak torta instead chi...  \n",
       "67018  delici rather authent mexican food must tri lo...  \n",
       "\n",
       "[67019 rows x 4 columns]"
      ]
     },
     "execution_count": 71,
     "metadata": {},
     "output_type": "execute_result"
    }
   ],
   "source": [
    "yelp_raw_df"
   ]
  },
  {
   "cell_type": "code",
   "execution_count": 72,
   "metadata": {
    "ExecuteTime": {
     "end_time": "2020-08-22T21:32:22.281521Z",
     "start_time": "2020-08-22T21:31:38.994202Z"
    }
   },
   "outputs": [],
   "source": [
    "yelp_feat = add_features_to_topics(yelp_df, yelp_raw_df)"
   ]
  },
  {
   "cell_type": "code",
   "execution_count": 73,
   "metadata": {
    "ExecuteTime": {
     "end_time": "2020-08-22T21:32:22.295639Z",
     "start_time": "2020-08-22T21:32:22.283619Z"
    }
   },
   "outputs": [
    {
     "data": {
      "text/html": [
       "<div>\n",
       "<style scoped>\n",
       "    .dataframe tbody tr th:only-of-type {\n",
       "        vertical-align: middle;\n",
       "    }\n",
       "\n",
       "    .dataframe tbody tr th {\n",
       "        vertical-align: top;\n",
       "    }\n",
       "\n",
       "    .dataframe thead th {\n",
       "        text-align: right;\n",
       "    }\n",
       "</style>\n",
       "<table border=\"1\" class=\"dataframe\">\n",
       "  <thead>\n",
       "    <tr style=\"text-align: right;\">\n",
       "      <th></th>\n",
       "      <th>servic,like,hotel,luxuri,experi</th>\n",
       "      <th>check,desk,reserv,told,time</th>\n",
       "      <th>night,bathroom,bed,floor,good</th>\n",
       "      <th>staff,friendli,clean,help,definit</th>\n",
       "      <th>great,locat,great locat,view,nice</th>\n",
       "      <th>tb_subjective</th>\n",
       "      <th>polarity</th>\n",
       "    </tr>\n",
       "  </thead>\n",
       "  <tbody>\n",
       "    <tr>\n",
       "      <th>0</th>\n",
       "      <td>0.070910</td>\n",
       "      <td>0.110557</td>\n",
       "      <td>0.014336</td>\n",
       "      <td>0.029449</td>\n",
       "      <td>0.000000</td>\n",
       "      <td>0.448713</td>\n",
       "      <td>0</td>\n",
       "    </tr>\n",
       "    <tr>\n",
       "      <th>1</th>\n",
       "      <td>0.063246</td>\n",
       "      <td>0.031662</td>\n",
       "      <td>0.000000</td>\n",
       "      <td>0.026060</td>\n",
       "      <td>0.000000</td>\n",
       "      <td>0.400000</td>\n",
       "      <td>1</td>\n",
       "    </tr>\n",
       "    <tr>\n",
       "      <th>2</th>\n",
       "      <td>0.121456</td>\n",
       "      <td>0.036108</td>\n",
       "      <td>0.000000</td>\n",
       "      <td>0.000000</td>\n",
       "      <td>0.000000</td>\n",
       "      <td>0.283333</td>\n",
       "      <td>0</td>\n",
       "    </tr>\n",
       "    <tr>\n",
       "      <th>3</th>\n",
       "      <td>0.129793</td>\n",
       "      <td>0.069479</td>\n",
       "      <td>0.005381</td>\n",
       "      <td>0.000000</td>\n",
       "      <td>0.000957</td>\n",
       "      <td>0.333264</td>\n",
       "      <td>0</td>\n",
       "    </tr>\n",
       "    <tr>\n",
       "      <th>4</th>\n",
       "      <td>0.079747</td>\n",
       "      <td>0.052888</td>\n",
       "      <td>0.000000</td>\n",
       "      <td>0.054346</td>\n",
       "      <td>0.032193</td>\n",
       "      <td>0.358333</td>\n",
       "      <td>0</td>\n",
       "    </tr>\n",
       "    <tr>\n",
       "      <th>...</th>\n",
       "      <td>...</td>\n",
       "      <td>...</td>\n",
       "      <td>...</td>\n",
       "      <td>...</td>\n",
       "      <td>...</td>\n",
       "      <td>...</td>\n",
       "      <td>...</td>\n",
       "    </tr>\n",
       "    <tr>\n",
       "      <th>67014</th>\n",
       "      <td>0.032355</td>\n",
       "      <td>0.074172</td>\n",
       "      <td>0.000000</td>\n",
       "      <td>0.043012</td>\n",
       "      <td>0.063176</td>\n",
       "      <td>0.640909</td>\n",
       "      <td>1</td>\n",
       "    </tr>\n",
       "    <tr>\n",
       "      <th>67015</th>\n",
       "      <td>0.071240</td>\n",
       "      <td>0.000000</td>\n",
       "      <td>0.052887</td>\n",
       "      <td>0.000000</td>\n",
       "      <td>0.000000</td>\n",
       "      <td>0.600000</td>\n",
       "      <td>1</td>\n",
       "    </tr>\n",
       "    <tr>\n",
       "      <th>67016</th>\n",
       "      <td>0.077880</td>\n",
       "      <td>0.000000</td>\n",
       "      <td>0.000000</td>\n",
       "      <td>0.000000</td>\n",
       "      <td>0.108158</td>\n",
       "      <td>0.605556</td>\n",
       "      <td>1</td>\n",
       "    </tr>\n",
       "    <tr>\n",
       "      <th>67017</th>\n",
       "      <td>0.089488</td>\n",
       "      <td>0.014224</td>\n",
       "      <td>0.000000</td>\n",
       "      <td>0.000000</td>\n",
       "      <td>0.013857</td>\n",
       "      <td>0.226389</td>\n",
       "      <td>0</td>\n",
       "    </tr>\n",
       "    <tr>\n",
       "      <th>67018</th>\n",
       "      <td>0.049440</td>\n",
       "      <td>0.000000</td>\n",
       "      <td>0.077077</td>\n",
       "      <td>0.022697</td>\n",
       "      <td>0.011538</td>\n",
       "      <td>0.300000</td>\n",
       "      <td>1</td>\n",
       "    </tr>\n",
       "  </tbody>\n",
       "</table>\n",
       "<p>67019 rows × 7 columns</p>\n",
       "</div>"
      ],
      "text/plain": [
       "       servic,like,hotel,luxuri,experi  check,desk,reserv,told,time  \\\n",
       "0                             0.070910                     0.110557   \n",
       "1                             0.063246                     0.031662   \n",
       "2                             0.121456                     0.036108   \n",
       "3                             0.129793                     0.069479   \n",
       "4                             0.079747                     0.052888   \n",
       "...                                ...                          ...   \n",
       "67014                         0.032355                     0.074172   \n",
       "67015                         0.071240                     0.000000   \n",
       "67016                         0.077880                     0.000000   \n",
       "67017                         0.089488                     0.014224   \n",
       "67018                         0.049440                     0.000000   \n",
       "\n",
       "       night,bathroom,bed,floor,good  staff,friendli,clean,help,definit  \\\n",
       "0                           0.014336                           0.029449   \n",
       "1                           0.000000                           0.026060   \n",
       "2                           0.000000                           0.000000   \n",
       "3                           0.005381                           0.000000   \n",
       "4                           0.000000                           0.054346   \n",
       "...                              ...                                ...   \n",
       "67014                       0.000000                           0.043012   \n",
       "67015                       0.052887                           0.000000   \n",
       "67016                       0.000000                           0.000000   \n",
       "67017                       0.000000                           0.000000   \n",
       "67018                       0.077077                           0.022697   \n",
       "\n",
       "       great,locat,great locat,view,nice  tb_subjective  polarity  \n",
       "0                               0.000000       0.448713         0  \n",
       "1                               0.000000       0.400000         1  \n",
       "2                               0.000000       0.283333         0  \n",
       "3                               0.000957       0.333264         0  \n",
       "4                               0.032193       0.358333         0  \n",
       "...                                  ...            ...       ...  \n",
       "67014                           0.063176       0.640909         1  \n",
       "67015                           0.000000       0.600000         1  \n",
       "67016                           0.108158       0.605556         1  \n",
       "67017                           0.013857       0.226389         0  \n",
       "67018                           0.011538       0.300000         1  \n",
       "\n",
       "[67019 rows x 7 columns]"
      ]
     },
     "execution_count": 73,
     "metadata": {},
     "output_type": "execute_result"
    }
   ],
   "source": [
    "yelp_feat"
   ]
  },
  {
   "cell_type": "code",
   "execution_count": 74,
   "metadata": {
    "ExecuteTime": {
     "end_time": "2020-08-22T21:32:22.308153Z",
     "start_time": "2020-08-22T21:32:22.296977Z"
    }
   },
   "outputs": [],
   "source": [
    "yelp_feat_sc = scaler.transform(yelp_feat)"
   ]
  },
  {
   "cell_type": "code",
   "execution_count": 75,
   "metadata": {
    "ExecuteTime": {
     "end_time": "2020-08-22T21:32:22.349500Z",
     "start_time": "2020-08-22T21:32:22.311623Z"
    }
   },
   "outputs": [],
   "source": [
    "yelp_clust_pred = bigram_gmm.predict(yelp_feat_sc)\n",
    "yelp_bigram_result = yelp_feat.copy()\n",
    "yelp_bigram_result['cluster'] = yelp_clust_pred\n",
    "yelp_bigram_result['predict'] = yelp_bigram_result['cluster'].map({0:1, 1:0, 2:1, 3:1, 4:0, 5:0, 6:0, 7:1})"
   ]
  },
  {
   "cell_type": "code",
   "execution_count": 76,
   "metadata": {
    "ExecuteTime": {
     "end_time": "2020-08-22T21:32:22.362141Z",
     "start_time": "2020-08-22T21:32:22.351691Z"
    }
   },
   "outputs": [],
   "source": [
    "yelp_bigram_result['target'] = yelp_raw_df['flagged'].map({'Y':1,'N':0})"
   ]
  },
  {
   "cell_type": "code",
   "execution_count": 77,
   "metadata": {
    "ExecuteTime": {
     "end_time": "2020-08-22T21:32:22.591020Z",
     "start_time": "2020-08-22T21:32:22.363946Z"
    }
   },
   "outputs": [
    {
     "data": {
      "image/png": "[encoded data removed]",
      "text/plain": [
       "<Figure size 576x576 with 2 Axes>"
      ]
     },
     "metadata": {
      "needs_background": "light"
     },
     "output_type": "display_data"
    }
   ],
   "source": [
    "plt.figure(figsize=(8,8))\n",
    "plt.title('Confusion Matrix for Yelp (/w meta)', fontsize=20)\n",
    "ylabel = ['Actual Genuine', 'Actual Fake']\n",
    "xlabel = ['Predictied Genuine', 'Predicted Fake']\n",
    "bigram_cm = cm(yelp_bigram_result['target'], yelp_bigram_result['predict'])\n",
    "sns.heatmap(bigram_cm, annot=True, fmt='d', xticklabels=xlabel, yticklabels=ylabel,\n",
    "            annot_kws={'size':14}, cmap='Blues', square=True)\n",
    "plt.show()\n"
   ]
  },
  {
   "cell_type": "code",
   "execution_count": 78,
   "metadata": {
    "ExecuteTime": {
     "end_time": "2020-08-22T21:32:22.612757Z",
     "start_time": "2020-08-22T21:32:22.592859Z"
    }
   },
   "outputs": [
    {
     "data": {
      "text/plain": [
       "0.20099087734693505"
      ]
     },
     "execution_count": 78,
     "metadata": {},
     "output_type": "execute_result"
    }
   ],
   "source": [
    "f1_score(yelp_bigram_result['target'], yelp_bigram_result['predict'])"
   ]
  },
  {
   "cell_type": "code",
   "execution_count": 79,
   "metadata": {
    "ExecuteTime": {
     "end_time": "2020-08-22T21:32:22.630426Z",
     "start_time": "2020-08-22T21:32:22.614390Z"
    }
   },
   "outputs": [
    {
     "data": {
      "text/html": [
       "<div>\n",
       "<style scoped>\n",
       "    .dataframe tbody tr th:only-of-type {\n",
       "        vertical-align: middle;\n",
       "    }\n",
       "\n",
       "    .dataframe tbody tr th {\n",
       "        vertical-align: top;\n",
       "    }\n",
       "\n",
       "    .dataframe thead th {\n",
       "        text-align: right;\n",
       "    }\n",
       "</style>\n",
       "<table border=\"1\" class=\"dataframe\">\n",
       "  <thead>\n",
       "    <tr style=\"text-align: right;\">\n",
       "      <th></th>\n",
       "      <th>servic,like,hotel,luxuri,experi</th>\n",
       "      <th>check,desk,reserv,told,time</th>\n",
       "      <th>night,bathroom,bed,floor,good</th>\n",
       "      <th>staff,friendli,clean,help,definit</th>\n",
       "      <th>great,locat,great locat,view,nice</th>\n",
       "      <th>tb_subjective</th>\n",
       "      <th>polarity</th>\n",
       "      <th>cluster</th>\n",
       "      <th>predict</th>\n",
       "      <th>target</th>\n",
       "    </tr>\n",
       "  </thead>\n",
       "  <tbody>\n",
       "    <tr>\n",
       "      <th>58589</th>\n",
       "      <td>0.015911</td>\n",
       "      <td>0.021526</td>\n",
       "      <td>0.040329</td>\n",
       "      <td>0.025601</td>\n",
       "      <td>0.000000</td>\n",
       "      <td>0.000000</td>\n",
       "      <td>0</td>\n",
       "      <td>6</td>\n",
       "      <td>0</td>\n",
       "      <td>1</td>\n",
       "    </tr>\n",
       "    <tr>\n",
       "      <th>58590</th>\n",
       "      <td>0.121059</td>\n",
       "      <td>0.012197</td>\n",
       "      <td>0.060201</td>\n",
       "      <td>0.020960</td>\n",
       "      <td>0.011215</td>\n",
       "      <td>0.367872</td>\n",
       "      <td>0</td>\n",
       "      <td>7</td>\n",
       "      <td>1</td>\n",
       "      <td>1</td>\n",
       "    </tr>\n",
       "    <tr>\n",
       "      <th>58591</th>\n",
       "      <td>0.075779</td>\n",
       "      <td>0.000000</td>\n",
       "      <td>0.000000</td>\n",
       "      <td>0.063256</td>\n",
       "      <td>0.000358</td>\n",
       "      <td>0.000000</td>\n",
       "      <td>0</td>\n",
       "      <td>7</td>\n",
       "      <td>1</td>\n",
       "      <td>1</td>\n",
       "    </tr>\n",
       "    <tr>\n",
       "      <th>58592</th>\n",
       "      <td>0.075779</td>\n",
       "      <td>0.000000</td>\n",
       "      <td>0.000000</td>\n",
       "      <td>0.063256</td>\n",
       "      <td>0.000358</td>\n",
       "      <td>0.000000</td>\n",
       "      <td>0</td>\n",
       "      <td>7</td>\n",
       "      <td>1</td>\n",
       "      <td>1</td>\n",
       "    </tr>\n",
       "    <tr>\n",
       "      <th>58593</th>\n",
       "      <td>0.066191</td>\n",
       "      <td>0.045516</td>\n",
       "      <td>0.000000</td>\n",
       "      <td>0.024852</td>\n",
       "      <td>0.000000</td>\n",
       "      <td>0.300000</td>\n",
       "      <td>1</td>\n",
       "      <td>3</td>\n",
       "      <td>1</td>\n",
       "      <td>1</td>\n",
       "    </tr>\n",
       "    <tr>\n",
       "      <th>...</th>\n",
       "      <td>...</td>\n",
       "      <td>...</td>\n",
       "      <td>...</td>\n",
       "      <td>...</td>\n",
       "      <td>...</td>\n",
       "      <td>...</td>\n",
       "      <td>...</td>\n",
       "      <td>...</td>\n",
       "      <td>...</td>\n",
       "      <td>...</td>\n",
       "    </tr>\n",
       "    <tr>\n",
       "      <th>66887</th>\n",
       "      <td>0.111487</td>\n",
       "      <td>0.021022</td>\n",
       "      <td>0.000000</td>\n",
       "      <td>0.072934</td>\n",
       "      <td>0.000000</td>\n",
       "      <td>0.328571</td>\n",
       "      <td>1</td>\n",
       "      <td>3</td>\n",
       "      <td>1</td>\n",
       "      <td>1</td>\n",
       "    </tr>\n",
       "    <tr>\n",
       "      <th>66888</th>\n",
       "      <td>0.084851</td>\n",
       "      <td>0.086813</td>\n",
       "      <td>0.000000</td>\n",
       "      <td>0.000000</td>\n",
       "      <td>0.052774</td>\n",
       "      <td>0.410262</td>\n",
       "      <td>0</td>\n",
       "      <td>7</td>\n",
       "      <td>1</td>\n",
       "      <td>1</td>\n",
       "    </tr>\n",
       "    <tr>\n",
       "      <th>66889</th>\n",
       "      <td>0.068351</td>\n",
       "      <td>0.000000</td>\n",
       "      <td>0.001529</td>\n",
       "      <td>0.005347</td>\n",
       "      <td>0.108333</td>\n",
       "      <td>0.650000</td>\n",
       "      <td>1</td>\n",
       "      <td>1</td>\n",
       "      <td>0</td>\n",
       "      <td>1</td>\n",
       "    </tr>\n",
       "    <tr>\n",
       "      <th>66890</th>\n",
       "      <td>0.067913</td>\n",
       "      <td>0.000000</td>\n",
       "      <td>0.000000</td>\n",
       "      <td>0.040701</td>\n",
       "      <td>0.077412</td>\n",
       "      <td>0.700000</td>\n",
       "      <td>1</td>\n",
       "      <td>3</td>\n",
       "      <td>1</td>\n",
       "      <td>1</td>\n",
       "    </tr>\n",
       "    <tr>\n",
       "      <th>66891</th>\n",
       "      <td>0.086828</td>\n",
       "      <td>0.000000</td>\n",
       "      <td>0.038279</td>\n",
       "      <td>0.036840</td>\n",
       "      <td>0.000000</td>\n",
       "      <td>0.612500</td>\n",
       "      <td>1</td>\n",
       "      <td>3</td>\n",
       "      <td>1</td>\n",
       "      <td>1</td>\n",
       "    </tr>\n",
       "  </tbody>\n",
       "</table>\n",
       "<p>8303 rows × 10 columns</p>\n",
       "</div>"
      ],
      "text/plain": [
       "       servic,like,hotel,luxuri,experi  check,desk,reserv,told,time  \\\n",
       "58589                         0.015911                     0.021526   \n",
       "58590                         0.121059                     0.012197   \n",
       "58591                         0.075779                     0.000000   \n",
       "58592                         0.075779                     0.000000   \n",
       "58593                         0.066191                     0.045516   \n",
       "...                                ...                          ...   \n",
       "66887                         0.111487                     0.021022   \n",
       "66888                         0.084851                     0.086813   \n",
       "66889                         0.068351                     0.000000   \n",
       "66890                         0.067913                     0.000000   \n",
       "66891                         0.086828                     0.000000   \n",
       "\n",
       "       night,bathroom,bed,floor,good  staff,friendli,clean,help,definit  \\\n",
       "58589                       0.040329                           0.025601   \n",
       "58590                       0.060201                           0.020960   \n",
       "58591                       0.000000                           0.063256   \n",
       "58592                       0.000000                           0.063256   \n",
       "58593                       0.000000                           0.024852   \n",
       "...                              ...                                ...   \n",
       "66887                       0.000000                           0.072934   \n",
       "66888                       0.000000                           0.000000   \n",
       "66889                       0.001529                           0.005347   \n",
       "66890                       0.000000                           0.040701   \n",
       "66891                       0.038279                           0.036840   \n",
       "\n",
       "       great,locat,great locat,view,nice  tb_subjective  polarity  cluster  \\\n",
       "58589                           0.000000       0.000000         0        6   \n",
       "58590                           0.011215       0.367872         0        7   \n",
       "58591                           0.000358       0.000000         0        7   \n",
       "58592                           0.000358       0.000000         0        7   \n",
       "58593                           0.000000       0.300000         1        3   \n",
       "...                                  ...            ...       ...      ...   \n",
       "66887                           0.000000       0.328571         1        3   \n",
       "66888                           0.052774       0.410262         0        7   \n",
       "66889                           0.108333       0.650000         1        1   \n",
       "66890                           0.077412       0.700000         1        3   \n",
       "66891                           0.000000       0.612500         1        3   \n",
       "\n",
       "       predict  target  \n",
       "58589        0       1  \n",
       "58590        1       1  \n",
       "58591        1       1  \n",
       "58592        1       1  \n",
       "58593        1       1  \n",
       "...        ...     ...  \n",
       "66887        1       1  \n",
       "66888        1       1  \n",
       "66889        0       1  \n",
       "66890        1       1  \n",
       "66891        1       1  \n",
       "\n",
       "[8303 rows x 10 columns]"
      ]
     },
     "execution_count": 79,
     "metadata": {},
     "output_type": "execute_result"
    }
   ],
   "source": [
    "yelp_bigram_result[yelp_bigram_result['target']==1]"
   ]
  },
  {
   "cell_type": "code",
   "execution_count": 80,
   "metadata": {
    "ExecuteTime": {
     "end_time": "2020-08-22T21:32:22.637409Z",
     "start_time": "2020-08-22T21:32:22.632007Z"
    }
   },
   "outputs": [
    {
     "data": {
      "text/plain": [
       "\"I've been back twice since my first post and every visit has been just as good as the last.The food is fantastic, fresh tasting and the portions are sizeable.Raul is the bomb and he will not lead you astray - trust his recommendations! He'll hook you up with the best dishes they have to offer and I respect that he's not trying to sell you on the most expensive item on the menu. Everyone who works here is polite and friendly. They are always busy for dinner service but not once have I ever felt rushed to finish my meal. The servers don't hover or check in on you a million times. They let you enjoy your visit.If you haven't tried this place yet - make it happen! You will not be disappointed.\""
      ]
     },
     "execution_count": 80,
     "metadata": {},
     "output_type": "execute_result"
    }
   ],
   "source": [
    "yelp_raw_df.loc[66887,'reviewContent']"
   ]
  },
  {
   "cell_type": "code",
   "execution_count": 81,
   "metadata": {
    "ExecuteTime": {
     "end_time": "2020-08-22T21:32:22.680464Z",
     "start_time": "2020-08-22T21:32:22.638750Z"
    }
   },
   "outputs": [
    {
     "data": {
      "text/plain": [
       "array([[7.65475791e-03, 3.15658960e-08, 7.18687561e-08, ...,\n",
       "        7.22918661e-08, 7.50767581e-04, 3.93229766e-01],\n",
       "       [1.19047293e-04, 1.70599869e-05, 1.31566910e-04, ...,\n",
       "        8.26467938e-05, 1.84167700e-05, 7.49913444e-03],\n",
       "       [2.24101658e-06, 1.85781385e-10, 1.86487431e-12, ...,\n",
       "        8.46270663e-12, 1.81405392e-06, 9.99948602e-01],\n",
       "       ...,\n",
       "       [2.16536083e-04, 6.50656006e-01, 3.08388434e-05, ...,\n",
       "        8.38815456e-05, 4.20020847e-08, 2.08475969e-04],\n",
       "       [1.61764460e-05, 2.10016903e-08, 8.63430228e-11, ...,\n",
       "        9.11781944e-10, 1.66840582e-04, 9.99580357e-01],\n",
       "       [1.18179550e-04, 3.45504326e-04, 9.69910745e-05, ...,\n",
       "        3.10855883e-01, 2.92263641e-01, 5.96427694e-03]])"
      ]
     },
     "execution_count": 81,
     "metadata": {},
     "output_type": "execute_result"
    }
   ],
   "source": [
    "bigram_gmm.predict_proba(yelp_feat_sc)"
   ]
  },
  {
   "cell_type": "markdown",
   "metadata": {},
   "source": [
    "# Using unigram model"
   ]
  },
  {
   "cell_type": "code",
   "execution_count": 82,
   "metadata": {
    "ExecuteTime": {
     "end_time": "2020-08-22T21:36:28.845538Z",
     "start_time": "2020-08-22T21:36:26.259351Z"
    }
   },
   "outputs": [
    {
     "name": "stdout",
     "output_type": "stream",
     "text": [
      "        0         1       2      3        4\n",
      "0  servic      like   hotel  place   luxuri\n",
      "1   check      desk  reserv   told    minut\n",
      "2   night  bathroom     bed  floor     good\n",
      "3   staff  friendli   clean   help  definit\n",
      "4   great     locat    view   citi     shop\n"
     ]
    }
   ],
   "source": [
    "yelp_uni_nmf = nmf_obj()\n",
    "yelp_uni_nmf.tdm = unigram_nmf.tfidf.transform(yelp_raw_df['text'])\n",
    "yelp_uni_nmf.nmf_topic = unigram_nmf.nmf.transform(yelp_uni_nmf.tdm)\n",
    "\n",
    "yelp_uni_nmf.nmf = unigram_nmf.nmf\n",
    "yelp_uni_nmf.tfidf = unigram_nmf.tfidf\n",
    "yelp_uni_nmf.feature_names = unigram_nmf.feature_names\n",
    "yelp_uni_nmf.display_topics()"
   ]
  },
  {
   "cell_type": "code",
   "execution_count": 83,
   "metadata": {
    "ExecuteTime": {
     "end_time": "2020-08-22T21:36:28.850916Z",
     "start_time": "2020-08-22T21:36:28.847708Z"
    }
   },
   "outputs": [],
   "source": [
    "yelp_uni_df = yelp_uni_nmf.export_topic_df()"
   ]
  },
  {
   "cell_type": "code",
   "execution_count": 84,
   "metadata": {
    "ExecuteTime": {
     "end_time": "2020-08-22T21:36:28.865498Z",
     "start_time": "2020-08-22T21:36:28.852857Z"
    }
   },
   "outputs": [
    {
     "data": {
      "text/html": [
       "<div>\n",
       "<style scoped>\n",
       "    .dataframe tbody tr th:only-of-type {\n",
       "        vertical-align: middle;\n",
       "    }\n",
       "\n",
       "    .dataframe tbody tr th {\n",
       "        vertical-align: top;\n",
       "    }\n",
       "\n",
       "    .dataframe thead th {\n",
       "        text-align: right;\n",
       "    }\n",
       "</style>\n",
       "<table border=\"1\" class=\"dataframe\">\n",
       "  <thead>\n",
       "    <tr style=\"text-align: right;\">\n",
       "      <th></th>\n",
       "      <th>servic,like,hotel,place,luxuri</th>\n",
       "      <th>check,desk,reserv,told,minut</th>\n",
       "      <th>night,bathroom,bed,floor,good</th>\n",
       "      <th>staff,friendli,clean,help,definit</th>\n",
       "      <th>great,locat,view,citi,shop</th>\n",
       "    </tr>\n",
       "  </thead>\n",
       "  <tbody>\n",
       "    <tr>\n",
       "      <th>0</th>\n",
       "      <td>0.074206</td>\n",
       "      <td>0.107633</td>\n",
       "      <td>0.011674</td>\n",
       "      <td>0.028344</td>\n",
       "      <td>0.000000</td>\n",
       "    </tr>\n",
       "    <tr>\n",
       "      <th>1</th>\n",
       "      <td>0.063227</td>\n",
       "      <td>0.031344</td>\n",
       "      <td>0.000000</td>\n",
       "      <td>0.024335</td>\n",
       "      <td>0.000000</td>\n",
       "    </tr>\n",
       "    <tr>\n",
       "      <th>2</th>\n",
       "      <td>0.117353</td>\n",
       "      <td>0.039883</td>\n",
       "      <td>0.000000</td>\n",
       "      <td>0.000000</td>\n",
       "      <td>0.000000</td>\n",
       "    </tr>\n",
       "    <tr>\n",
       "      <th>3</th>\n",
       "      <td>0.129399</td>\n",
       "      <td>0.068521</td>\n",
       "      <td>0.006175</td>\n",
       "      <td>0.000000</td>\n",
       "      <td>0.001499</td>\n",
       "    </tr>\n",
       "    <tr>\n",
       "      <th>4</th>\n",
       "      <td>0.080536</td>\n",
       "      <td>0.052348</td>\n",
       "      <td>0.000000</td>\n",
       "      <td>0.047996</td>\n",
       "      <td>0.034474</td>\n",
       "    </tr>\n",
       "    <tr>\n",
       "      <th>...</th>\n",
       "      <td>...</td>\n",
       "      <td>...</td>\n",
       "      <td>...</td>\n",
       "      <td>...</td>\n",
       "      <td>...</td>\n",
       "    </tr>\n",
       "    <tr>\n",
       "      <th>67014</th>\n",
       "      <td>0.033133</td>\n",
       "      <td>0.071175</td>\n",
       "      <td>0.000000</td>\n",
       "      <td>0.040382</td>\n",
       "      <td>0.065588</td>\n",
       "    </tr>\n",
       "    <tr>\n",
       "      <th>67015</th>\n",
       "      <td>0.072545</td>\n",
       "      <td>0.000000</td>\n",
       "      <td>0.052792</td>\n",
       "      <td>0.000000</td>\n",
       "      <td>0.000000</td>\n",
       "    </tr>\n",
       "    <tr>\n",
       "      <th>67016</th>\n",
       "      <td>0.079123</td>\n",
       "      <td>0.000000</td>\n",
       "      <td>0.000000</td>\n",
       "      <td>0.000000</td>\n",
       "      <td>0.113188</td>\n",
       "    </tr>\n",
       "    <tr>\n",
       "      <th>67017</th>\n",
       "      <td>0.095387</td>\n",
       "      <td>0.008429</td>\n",
       "      <td>0.000000</td>\n",
       "      <td>0.000000</td>\n",
       "      <td>0.014865</td>\n",
       "    </tr>\n",
       "    <tr>\n",
       "      <th>67018</th>\n",
       "      <td>0.052022</td>\n",
       "      <td>0.000000</td>\n",
       "      <td>0.070780</td>\n",
       "      <td>0.022263</td>\n",
       "      <td>0.012775</td>\n",
       "    </tr>\n",
       "  </tbody>\n",
       "</table>\n",
       "<p>67019 rows × 5 columns</p>\n",
       "</div>"
      ],
      "text/plain": [
       "       servic,like,hotel,place,luxuri  check,desk,reserv,told,minut  \\\n",
       "0                            0.074206                      0.107633   \n",
       "1                            0.063227                      0.031344   \n",
       "2                            0.117353                      0.039883   \n",
       "3                            0.129399                      0.068521   \n",
       "4                            0.080536                      0.052348   \n",
       "...                               ...                           ...   \n",
       "67014                        0.033133                      0.071175   \n",
       "67015                        0.072545                      0.000000   \n",
       "67016                        0.079123                      0.000000   \n",
       "67017                        0.095387                      0.008429   \n",
       "67018                        0.052022                      0.000000   \n",
       "\n",
       "       night,bathroom,bed,floor,good  staff,friendli,clean,help,definit  \\\n",
       "0                           0.011674                           0.028344   \n",
       "1                           0.000000                           0.024335   \n",
       "2                           0.000000                           0.000000   \n",
       "3                           0.006175                           0.000000   \n",
       "4                           0.000000                           0.047996   \n",
       "...                              ...                                ...   \n",
       "67014                       0.000000                           0.040382   \n",
       "67015                       0.052792                           0.000000   \n",
       "67016                       0.000000                           0.000000   \n",
       "67017                       0.000000                           0.000000   \n",
       "67018                       0.070780                           0.022263   \n",
       "\n",
       "       great,locat,view,citi,shop  \n",
       "0                        0.000000  \n",
       "1                        0.000000  \n",
       "2                        0.000000  \n",
       "3                        0.001499  \n",
       "4                        0.034474  \n",
       "...                           ...  \n",
       "67014                    0.065588  \n",
       "67015                    0.000000  \n",
       "67016                    0.113188  \n",
       "67017                    0.014865  \n",
       "67018                    0.012775  \n",
       "\n",
       "[67019 rows x 5 columns]"
      ]
     },
     "execution_count": 84,
     "metadata": {},
     "output_type": "execute_result"
    }
   ],
   "source": [
    "yelp_uni_df"
   ]
  },
  {
   "cell_type": "code",
   "execution_count": 85,
   "metadata": {
    "ExecuteTime": {
     "end_time": "2020-08-22T21:36:28.888771Z",
     "start_time": "2020-08-22T21:36:28.867558Z"
    }
   },
   "outputs": [],
   "source": [
    "yelp_uni_clust_pred = uni_gmm.predict(yelp_uni_df)"
   ]
  },
  {
   "cell_type": "code",
   "execution_count": 86,
   "metadata": {
    "ExecuteTime": {
     "end_time": "2020-08-22T21:36:28.895994Z",
     "start_time": "2020-08-22T21:36:28.891018Z"
    }
   },
   "outputs": [
    {
     "data": {
      "text/plain": [
       "array([[0.0290862 , 0.03250956, 0.11245871, 0.0294766 , 0.02238577],\n",
       "       [0.03334055, 0.14270071, 0.0373902 , 0.01734141, 0.01248069],\n",
       "       [0.02923589, 0.02079246, 0.02619387, 0.11185507, 0.0270666 ],\n",
       "       [0.08803833, 0.03210181, 0.02795578, 0.02888234, 0.01611449],\n",
       "       [0.02924734, 0.01980987, 0.04102133, 0.04570983, 0.13547351]])"
      ]
     },
     "execution_count": 86,
     "metadata": {},
     "output_type": "execute_result"
    }
   ],
   "source": [
    "uni_gmm.means_"
   ]
  },
  {
   "cell_type": "code",
   "execution_count": 87,
   "metadata": {
    "ExecuteTime": {
     "end_time": "2020-08-22T21:36:28.907311Z",
     "start_time": "2020-08-22T21:36:28.897845Z"
    }
   },
   "outputs": [],
   "source": [
    "yelp_uni_results = yelp_uni_df.copy()\n",
    "yelp_uni_results['cluster'] = yelp_uni_clust_pred\n",
    "yelp_uni_results['predict'] = yelp_uni_results['cluster'].map({0:0, 1:0, 2:1, 3:1, 4:0})"
   ]
  },
  {
   "cell_type": "code",
   "execution_count": 88,
   "metadata": {
    "ExecuteTime": {
     "end_time": "2020-08-22T21:36:28.920443Z",
     "start_time": "2020-08-22T21:36:28.909138Z"
    }
   },
   "outputs": [],
   "source": [
    "yelp_uni_results['target'] = yelp_raw_df['flagged'].map({'Y':1,'N':0})"
   ]
  },
  {
   "cell_type": "code",
   "execution_count": 89,
   "metadata": {
    "ExecuteTime": {
     "end_time": "2020-08-22T21:36:28.941048Z",
     "start_time": "2020-08-22T21:36:28.924056Z"
    }
   },
   "outputs": [
    {
     "data": {
      "text/html": [
       "<div>\n",
       "<style scoped>\n",
       "    .dataframe tbody tr th:only-of-type {\n",
       "        vertical-align: middle;\n",
       "    }\n",
       "\n",
       "    .dataframe tbody tr th {\n",
       "        vertical-align: top;\n",
       "    }\n",
       "\n",
       "    .dataframe thead th {\n",
       "        text-align: right;\n",
       "    }\n",
       "</style>\n",
       "<table border=\"1\" class=\"dataframe\">\n",
       "  <thead>\n",
       "    <tr style=\"text-align: right;\">\n",
       "      <th></th>\n",
       "      <th>servic,like,hotel,place,luxuri</th>\n",
       "      <th>check,desk,reserv,told,minut</th>\n",
       "      <th>night,bathroom,bed,floor,good</th>\n",
       "      <th>staff,friendli,clean,help,definit</th>\n",
       "      <th>great,locat,view,citi,shop</th>\n",
       "      <th>cluster</th>\n",
       "      <th>predict</th>\n",
       "      <th>target</th>\n",
       "    </tr>\n",
       "  </thead>\n",
       "  <tbody>\n",
       "    <tr>\n",
       "      <th>0</th>\n",
       "      <td>0.074206</td>\n",
       "      <td>0.107633</td>\n",
       "      <td>0.011674</td>\n",
       "      <td>0.028344</td>\n",
       "      <td>0.000000</td>\n",
       "      <td>1</td>\n",
       "      <td>0</td>\n",
       "      <td>0</td>\n",
       "    </tr>\n",
       "    <tr>\n",
       "      <th>1</th>\n",
       "      <td>0.063227</td>\n",
       "      <td>0.031344</td>\n",
       "      <td>0.000000</td>\n",
       "      <td>0.024335</td>\n",
       "      <td>0.000000</td>\n",
       "      <td>3</td>\n",
       "      <td>1</td>\n",
       "      <td>0</td>\n",
       "    </tr>\n",
       "    <tr>\n",
       "      <th>2</th>\n",
       "      <td>0.117353</td>\n",
       "      <td>0.039883</td>\n",
       "      <td>0.000000</td>\n",
       "      <td>0.000000</td>\n",
       "      <td>0.000000</td>\n",
       "      <td>3</td>\n",
       "      <td>1</td>\n",
       "      <td>0</td>\n",
       "    </tr>\n",
       "    <tr>\n",
       "      <th>3</th>\n",
       "      <td>0.129399</td>\n",
       "      <td>0.068521</td>\n",
       "      <td>0.006175</td>\n",
       "      <td>0.000000</td>\n",
       "      <td>0.001499</td>\n",
       "      <td>3</td>\n",
       "      <td>1</td>\n",
       "      <td>0</td>\n",
       "    </tr>\n",
       "    <tr>\n",
       "      <th>4</th>\n",
       "      <td>0.080536</td>\n",
       "      <td>0.052348</td>\n",
       "      <td>0.000000</td>\n",
       "      <td>0.047996</td>\n",
       "      <td>0.034474</td>\n",
       "      <td>3</td>\n",
       "      <td>1</td>\n",
       "      <td>0</td>\n",
       "    </tr>\n",
       "    <tr>\n",
       "      <th>...</th>\n",
       "      <td>...</td>\n",
       "      <td>...</td>\n",
       "      <td>...</td>\n",
       "      <td>...</td>\n",
       "      <td>...</td>\n",
       "      <td>...</td>\n",
       "      <td>...</td>\n",
       "      <td>...</td>\n",
       "    </tr>\n",
       "    <tr>\n",
       "      <th>67014</th>\n",
       "      <td>0.033133</td>\n",
       "      <td>0.071175</td>\n",
       "      <td>0.000000</td>\n",
       "      <td>0.040382</td>\n",
       "      <td>0.065588</td>\n",
       "      <td>3</td>\n",
       "      <td>1</td>\n",
       "      <td>0</td>\n",
       "    </tr>\n",
       "    <tr>\n",
       "      <th>67015</th>\n",
       "      <td>0.072545</td>\n",
       "      <td>0.000000</td>\n",
       "      <td>0.052792</td>\n",
       "      <td>0.000000</td>\n",
       "      <td>0.000000</td>\n",
       "      <td>3</td>\n",
       "      <td>1</td>\n",
       "      <td>0</td>\n",
       "    </tr>\n",
       "    <tr>\n",
       "      <th>67016</th>\n",
       "      <td>0.079123</td>\n",
       "      <td>0.000000</td>\n",
       "      <td>0.000000</td>\n",
       "      <td>0.000000</td>\n",
       "      <td>0.113188</td>\n",
       "      <td>4</td>\n",
       "      <td>0</td>\n",
       "      <td>0</td>\n",
       "    </tr>\n",
       "    <tr>\n",
       "      <th>67017</th>\n",
       "      <td>0.095387</td>\n",
       "      <td>0.008429</td>\n",
       "      <td>0.000000</td>\n",
       "      <td>0.000000</td>\n",
       "      <td>0.014865</td>\n",
       "      <td>3</td>\n",
       "      <td>1</td>\n",
       "      <td>0</td>\n",
       "    </tr>\n",
       "    <tr>\n",
       "      <th>67018</th>\n",
       "      <td>0.052022</td>\n",
       "      <td>0.000000</td>\n",
       "      <td>0.070780</td>\n",
       "      <td>0.022263</td>\n",
       "      <td>0.012775</td>\n",
       "      <td>0</td>\n",
       "      <td>0</td>\n",
       "      <td>0</td>\n",
       "    </tr>\n",
       "  </tbody>\n",
       "</table>\n",
       "<p>67019 rows × 8 columns</p>\n",
       "</div>"
      ],
      "text/plain": [
       "       servic,like,hotel,place,luxuri  check,desk,reserv,told,minut  \\\n",
       "0                            0.074206                      0.107633   \n",
       "1                            0.063227                      0.031344   \n",
       "2                            0.117353                      0.039883   \n",
       "3                            0.129399                      0.068521   \n",
       "4                            0.080536                      0.052348   \n",
       "...                               ...                           ...   \n",
       "67014                        0.033133                      0.071175   \n",
       "67015                        0.072545                      0.000000   \n",
       "67016                        0.079123                      0.000000   \n",
       "67017                        0.095387                      0.008429   \n",
       "67018                        0.052022                      0.000000   \n",
       "\n",
       "       night,bathroom,bed,floor,good  staff,friendli,clean,help,definit  \\\n",
       "0                           0.011674                           0.028344   \n",
       "1                           0.000000                           0.024335   \n",
       "2                           0.000000                           0.000000   \n",
       "3                           0.006175                           0.000000   \n",
       "4                           0.000000                           0.047996   \n",
       "...                              ...                                ...   \n",
       "67014                       0.000000                           0.040382   \n",
       "67015                       0.052792                           0.000000   \n",
       "67016                       0.000000                           0.000000   \n",
       "67017                       0.000000                           0.000000   \n",
       "67018                       0.070780                           0.022263   \n",
       "\n",
       "       great,locat,view,citi,shop  cluster  predict  target  \n",
       "0                        0.000000        1        0       0  \n",
       "1                        0.000000        3        1       0  \n",
       "2                        0.000000        3        1       0  \n",
       "3                        0.001499        3        1       0  \n",
       "4                        0.034474        3        1       0  \n",
       "...                           ...      ...      ...     ...  \n",
       "67014                    0.065588        3        1       0  \n",
       "67015                    0.000000        3        1       0  \n",
       "67016                    0.113188        4        0       0  \n",
       "67017                    0.014865        3        1       0  \n",
       "67018                    0.012775        0        0       0  \n",
       "\n",
       "[67019 rows x 8 columns]"
      ]
     },
     "execution_count": 89,
     "metadata": {},
     "output_type": "execute_result"
    }
   ],
   "source": [
    "yelp_uni_results"
   ]
  },
  {
   "cell_type": "code",
   "execution_count": 90,
   "metadata": {
    "ExecuteTime": {
     "end_time": "2020-08-22T21:36:29.206016Z",
     "start_time": "2020-08-22T21:36:28.943313Z"
    }
   },
   "outputs": [
    {
     "data": {
      "image/png": "[encoded data removed]",
      "text/plain": [
       "<Figure size 576x576 with 2 Axes>"
      ]
     },
     "metadata": {
      "needs_background": "light"
     },
     "output_type": "display_data"
    }
   ],
   "source": [
    "plt.figure(figsize=(8,8))\n",
    "ylabel = ['Normal Review', 'Flagged Review']\n",
    "xlabel = ['Clustered Genuine', 'Clustered Fake']\n",
    "bigram_cm = cm(yelp_uni_results['target'], yelp_uni_results['predict'])\n",
    "sns.heatmap(bigram_cm, annot=True, fmt='d', xticklabels=xlabel, yticklabels=ylabel,\n",
    "            annot_kws={'size':14}, cmap='Blues', square=True)\n",
    "plt.savefig('../ppt/Yelp_CM.png')"
   ]
  },
  {
   "cell_type": "code",
   "execution_count": 91,
   "metadata": {
    "ExecuteTime": {
     "end_time": "2020-08-22T21:36:29.227671Z",
     "start_time": "2020-08-22T21:36:29.208263Z"
    }
   },
   "outputs": [
    {
     "data": {
      "text/plain": [
       "0.19940607127144744"
      ]
     },
     "execution_count": 91,
     "metadata": {},
     "output_type": "execute_result"
    }
   ],
   "source": [
    "f1_score(yelp_uni_results['target'], yelp_uni_results['predict'])"
   ]
  },
  {
   "cell_type": "markdown",
   "metadata": {},
   "source": [
    "# Visualization"
   ]
  },
  {
   "cell_type": "code",
   "execution_count": null,
   "metadata": {
    "ExecuteTime": {
     "end_time": "2020-08-21T00:37:16.742379Z",
     "start_time": "2020-08-21T00:37:16.738463Z"
    }
   },
   "outputs": [],
   "source": [
    "from sklearn.manifold import TSNE\n",
    "from sklearn.decomposition import PCA"
   ]
  },
  {
   "cell_type": "code",
   "execution_count": null,
   "metadata": {
    "ExecuteTime": {
     "end_time": "2020-08-21T04:34:11.884181Z",
     "start_time": "2020-08-21T04:28:22.653581Z"
    }
   },
   "outputs": [],
   "source": [
    "plt.figure(figsize=(10,6))\n",
    "test_viz = TSNE(n_components=2, random_state=444,verbose=1)\n",
    "low_data = test_viz.fit_transform(yelp_uni_df)\n",
    "\n",
    "sns.scatterplot(low_data[:,0], \n",
    "                low_data[:,1],\n",
    "                hue=yelp_uni_results['cluster'],\n",
    "               palette=sns.color_palette('hls', 5),\n",
    "               legend='full',\n",
    "               alpha=0.3)\n",
    "plt.savefig('../ppt/t-SNE_GMM.png')"
   ]
  },
  {
   "cell_type": "code",
   "execution_count": null,
   "metadata": {
    "ExecuteTime": {
     "end_time": "2020-08-21T04:34:15.835011Z",
     "start_time": "2020-08-21T04:34:11.886223Z"
    }
   },
   "outputs": [],
   "source": [
    "# hotel clustering viz with T-SNE\n",
    "plt.figure(figsize=(10,6))\n",
    "hotel_viz = TSNE(n_components=2, random_state=444,verbose=1)\n",
    "hotel_data = hotel_viz.fit_transform(unigram_df)\n",
    "\n",
    "sns.scatterplot(hotel_data[:,0], \n",
    "                hotel_data[:,1],\n",
    "                hue=unigram_result['cluster'],\n",
    "               palette=sns.color_palette('hls', 5),\n",
    "               legend='full',\n",
    "               alpha=0.3)\n",
    "plt.savefig('../ppt/t-SNE_Hotel_GMM.png')"
   ]
  },
  {
   "cell_type": "code",
   "execution_count": null,
   "metadata": {
    "ExecuteTime": {
     "end_time": "2020-08-21T03:50:29.583105Z",
     "start_time": "2020-08-21T03:50:27.914091Z"
    }
   },
   "outputs": [],
   "source": [
    "# PCA yelp plot\n",
    "plt.figure(figsize=(10,6))\n",
    "pca_yelp = PCA(n_components=2)\n",
    "pca_yelp_result = pca_yelp.fit_transform(yelp_uni_df)\n",
    "\n",
    "sns.scatterplot(pca_result[:,0], \n",
    "                pca_result[:,1],\n",
    "                hue=yelp_uni_results['cluster'],\n",
    "               palette=sns.color_palette('hls', 5),\n",
    "               legend='full',\n",
    "               alpha=0.3)"
   ]
  },
  {
   "cell_type": "code",
   "execution_count": null,
   "metadata": {
    "ExecuteTime": {
     "end_time": "2020-08-21T00:48:38.430827Z",
     "start_time": "2020-08-21T00:48:38.179637Z"
    }
   },
   "outputs": [],
   "source": [
    "# PCA hotel plot\n",
    "plt.figure(figsize=(10,6))\n",
    "pca_hotel = PCA(n_components=2)\n",
    "pca_hotel_result = pca_hotel.fit_transform(unigram_df)\n",
    "\n",
    "sns.scatterplot(pca_hotel_result[:,0], \n",
    "                pca_hotel_result[:,1],\n",
    "                hue=unigram_result['cluster'],\n",
    "               palette=sns.color_palette('hls', 7),\n",
    "               legend='full',\n",
    "               alpha=0.3)"
   ]
  },
  {
   "cell_type": "markdown",
   "metadata": {},
   "source": [
    "# Aggregate the list?"
   ]
  },
  {
   "cell_type": "code",
   "execution_count": null,
   "metadata": {
    "ExecuteTime": {
     "end_time": "2020-08-20T23:39:45.282812Z",
     "start_time": "2020-08-20T23:39:45.263025Z"
    }
   },
   "outputs": [],
   "source": [
    "uni_fake = yelp_uni_results\n",
    "yelp_bigram_result"
   ]
  },
  {
   "cell_type": "code",
   "execution_count": null,
   "metadata": {},
   "outputs": [],
   "source": []
  }
 ],
 "metadata": {
  "kernelspec": {
   "display_name": "Python [conda env:metis] *",
   "language": "python",
   "name": "conda-env-metis-py"
  },
  "language_info": {
   "codemirror_mode": {
    "name": "ipython",
    "version": 3
   },
   "file_extension": ".py",
   "mimetype": "text/x-python",
   "name": "python",
   "nbconvert_exporter": "python",
   "pygments_lexer": "ipython3",
   "version": "3.8.3"
  }
 },
 "nbformat": 4,
 "nbformat_minor": 4
}
